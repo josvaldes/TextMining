{
 "cells": [
  {
   "cell_type": "code",
   "execution_count": 1,
   "id": "d37ed317-3b64-4597-8f5e-5e85680f7c6e",
   "metadata": {
    "tags": []
   },
   "outputs": [
    {
     "name": "stderr",
     "output_type": "stream",
     "text": [
      "[nltk_data] Downloading package stopwords to\n",
      "[nltk_data]     C:\\Users\\Josvaldes\\AppData\\Roaming\\nltk_data...\n",
      "[nltk_data]   Package stopwords is already up-to-date!\n",
      "[nltk_data] Downloading package punkt to\n",
      "[nltk_data]     C:\\Users\\Josvaldes\\AppData\\Roaming\\nltk_data...\n",
      "[nltk_data]   Package punkt is already up-to-date!\n"
     ]
    },
    {
     "data": {
      "text/plain": [
       "True"
      ]
     },
     "execution_count": 1,
     "metadata": {},
     "output_type": "execute_result"
    }
   ],
   "source": [
    "import numpy as np\n",
    "import pandas as pd\n",
    "from sklearn.feature_extraction.text import TfidfVectorizer\n",
    "from sklearn.model_selection import cross_val_score, train_test_split\n",
    "from sklearn.pipeline import Pipeline\n",
    "from sklearn.svm import SVC\n",
    "from sklearn.preprocessing import LabelEncoder\n",
    "import nltk\n",
    "from nltk.corpus import stopwords\n",
    "from nltk.stem import SnowballStemmer\n",
    "from sklearn.metrics import classification_report\n",
    "\n",
    "nltk.download('stopwords')\n",
    "nltk.download('punkt')"
   ]
  },
  {
   "cell_type": "code",
   "execution_count": 2,
   "id": "184dcc38-27e6-4f81-9fe6-ad5701958c22",
   "metadata": {
    "tags": []
   },
   "outputs": [
    {
     "data": {
      "text/html": [
       "<div>\n",
       "<style scoped>\n",
       "    .dataframe tbody tr th:only-of-type {\n",
       "        vertical-align: middle;\n",
       "    }\n",
       "\n",
       "    .dataframe tbody tr th {\n",
       "        vertical-align: top;\n",
       "    }\n",
       "\n",
       "    .dataframe thead th {\n",
       "        text-align: right;\n",
       "    }\n",
       "</style>\n",
       "<table border=\"1\" class=\"dataframe\">\n",
       "  <thead>\n",
       "    <tr style=\"text-align: right;\">\n",
       "      <th></th>\n",
       "      <th>problema_id</th>\n",
       "      <th>descripcion</th>\n",
       "      <th>alias_8_nombre3</th>\n",
       "      <th>problema_n</th>\n",
       "      <th>obsitem</th>\n",
       "      <th>Concaobsitem</th>\n",
       "    </tr>\n",
       "  </thead>\n",
       "  <tbody>\n",
       "    <tr>\n",
       "      <th>0</th>\n",
       "      <td>70e03aaf-6cfb-42e8-92ae-fcb46ff479dd</td>\n",
       "      <td>COCINA PALACE CRISTAL BLACK LX S2 (GN) (U.)</td>\n",
       "      <td>GN - Gas Natural</td>\n",
       "      <td>B2 - Pérdidas de gas sin piezas dañadas</td>\n",
       "      <td>HAY UNA PERILLA DE LAS HORNALLA QUE NO SE PUED...</td>\n",
       "      <td>COCINA PALACE CRISTAL BLACK LX S2 (GN) (U.) GN...</td>\n",
       "    </tr>\n",
       "    <tr>\n",
       "      <th>1</th>\n",
       "      <td>e5be47a0-c506-4a79-87e9-2a45f06d496c</td>\n",
       "      <td>COCINA PALACE CRISTAL BLACK LX S2 (GN) (U.)</td>\n",
       "      <td>GN - Gas Natural</td>\n",
       "      <td>G - Perilla no gira / gira mal</td>\n",
       "      <td>HAY UNA PERILLA DE LAS HORNALLA QUE NO SE PUED...</td>\n",
       "      <td>COCINA PALACE CRISTAL BLACK LX S2 (GN) (U.) GN...</td>\n",
       "    </tr>\n",
       "    <tr>\n",
       "      <th>2</th>\n",
       "      <td>2b2af341-20c5-4607-baa0-01972617647e</td>\n",
       "      <td>TERMO ELECTRICO EL-55</td>\n",
       "      <td>ELE - Termo eléctrico</td>\n",
       "      <td>D - No enciende</td>\n",
       "      <td>DESPUÉS DE QUE UNA PERSONA SE DUCHO NO VOLVIÓ ...</td>\n",
       "      <td>TERMO ELECTRICO EL-55 ELE - Termo eléctrico \" ...</td>\n",
       "    </tr>\n",
       "    <tr>\n",
       "      <th>3</th>\n",
       "      <td>ab0ed03a-8aab-4317-9aad-fcc06dd41520</td>\n",
       "      <td>COCINA PALACE CRISTAL BLACK LX S2 (GN) (U.)</td>\n",
       "      <td>GN - Gas Natural</td>\n",
       "      <td>D2 - Hornalla Mal funcionamiento</td>\n",
       "      <td>LAS HORNALLAS TARDAN MUCHÍSIMO TIEMPO EN PREND...</td>\n",
       "      <td>COCINA PALACE CRISTAL BLACK LX S2 (GN) (U.) GN...</td>\n",
       "    </tr>\n",
       "    <tr>\n",
       "      <th>4</th>\n",
       "      <td>29ce3db5-f678-4f14-b86e-90c8265daad5</td>\n",
       "      <td>COCINA CANDOR S2 (GN) (U.)</td>\n",
       "      <td>GN - Gas Natural</td>\n",
       "      <td>C2 - Horno Mal funcionamiento</td>\n",
       "      <td>EL QUEMADOR DEL HORNO NO MANTIENE LA LLAMA ENC...</td>\n",
       "      <td>COCINA CANDOR S2 (GN) (U.) GN - Gas Natural \" ...</td>\n",
       "    </tr>\n",
       "  </tbody>\n",
       "</table>\n",
       "</div>"
      ],
      "text/plain": [
       "                            problema_id   \n",
       "0  70e03aaf-6cfb-42e8-92ae-fcb46ff479dd  \\\n",
       "1  e5be47a0-c506-4a79-87e9-2a45f06d496c   \n",
       "2  2b2af341-20c5-4607-baa0-01972617647e   \n",
       "3  ab0ed03a-8aab-4317-9aad-fcc06dd41520   \n",
       "4  29ce3db5-f678-4f14-b86e-90c8265daad5   \n",
       "\n",
       "                                   descripcion        alias_8_nombre3   \n",
       "0  COCINA PALACE CRISTAL BLACK LX S2 (GN) (U.)       GN - Gas Natural  \\\n",
       "1  COCINA PALACE CRISTAL BLACK LX S2 (GN) (U.)       GN - Gas Natural   \n",
       "2                        TERMO ELECTRICO EL-55  ELE - Termo eléctrico   \n",
       "3  COCINA PALACE CRISTAL BLACK LX S2 (GN) (U.)       GN - Gas Natural   \n",
       "4                   COCINA CANDOR S2 (GN) (U.)       GN - Gas Natural   \n",
       "\n",
       "                                problema_n   \n",
       "0  B2 - Pérdidas de gas sin piezas dañadas  \\\n",
       "1           G - Perilla no gira / gira mal   \n",
       "2                          D - No enciende   \n",
       "3         D2 - Hornalla Mal funcionamiento   \n",
       "4            C2 - Horno Mal funcionamiento   \n",
       "\n",
       "                                             obsitem   \n",
       "0  HAY UNA PERILLA DE LAS HORNALLA QUE NO SE PUED...  \\\n",
       "1  HAY UNA PERILLA DE LAS HORNALLA QUE NO SE PUED...   \n",
       "2  DESPUÉS DE QUE UNA PERSONA SE DUCHO NO VOLVIÓ ...   \n",
       "3  LAS HORNALLAS TARDAN MUCHÍSIMO TIEMPO EN PREND...   \n",
       "4  EL QUEMADOR DEL HORNO NO MANTIENE LA LLAMA ENC...   \n",
       "\n",
       "                                        Concaobsitem  \n",
       "0  COCINA PALACE CRISTAL BLACK LX S2 (GN) (U.) GN...  \n",
       "1  COCINA PALACE CRISTAL BLACK LX S2 (GN) (U.) GN...  \n",
       "2  TERMO ELECTRICO EL-55 ELE - Termo eléctrico \" ...  \n",
       "3  COCINA PALACE CRISTAL BLACK LX S2 (GN) (U.) GN...  \n",
       "4  COCINA CANDOR S2 (GN) (U.) GN - Gas Natural \" ...  "
      ]
     },
     "execution_count": 2,
     "metadata": {},
     "output_type": "execute_result"
    }
   ],
   "source": [
    "# Leer el archivo CSV\n",
    "df = pd.read_csv('C:/Users/Josvaldes/Documents/Maestria/Austral/2ano/textMining/proyecto/TextMining/TextMining/RECLAMOS 4.csv', encoding='utf-8')\n",
    "df.head()"
   ]
  },
  {
   "cell_type": "code",
   "execution_count": 3,
   "id": "f97f24bf-c4ae-4bf2-bec5-102b0b0a124c",
   "metadata": {
    "tags": []
   },
   "outputs": [],
   "source": [
    "# Obtener las columnas de diagnósticos y códigos AIS\n",
    "descripciones = df['Concaobsitem'].tolist()\n",
    "etiquetas = df['problema_n'].tolist()"
   ]
  },
  {
   "cell_type": "code",
   "execution_count": 4,
   "id": "bc8e888d-8ad4-4e04-98d2-82d5a66134d3",
   "metadata": {
    "tags": []
   },
   "outputs": [],
   "source": [
    "for desc in descripciones:\n",
    "    if not isinstance(desc, str):\n",
    "        print(f\"Elemento {desc} no es una cadena de texto (str).\")"
   ]
  },
  {
   "cell_type": "code",
   "execution_count": 5,
   "id": "cbeff137-5f19-4251-a405-94247d74b8f6",
   "metadata": {
    "tags": []
   },
   "outputs": [],
   "source": [
    "# Codificar las etiquetas como etiquetas numéricas\n",
    "label_encoder = LabelEncoder()\n",
    "etiquetas_numericas = label_encoder.fit_transform(etiquetas)"
   ]
  },
  {
   "cell_type": "code",
   "execution_count": 6,
   "id": "f4a21110-818f-4f88-b59b-7296ed965f4b",
   "metadata": {
    "tags": []
   },
   "outputs": [],
   "source": [
    "# Preprocesamiento de texto\n",
    "stemmer = SnowballStemmer('spanish')\n",
    "stop_words = set(stopwords.words('spanish'))"
   ]
  },
  {
   "cell_type": "code",
   "execution_count": 7,
   "id": "18b27f5f-cfbd-4e25-bb23-08a53edc0d56",
   "metadata": {
    "tags": []
   },
   "outputs": [],
   "source": [
    "def preprocesar_texto(texto):\n",
    "    palabras = nltk.word_tokenize(texto.lower())\n",
    "    palabras = [stemmer.stem(palabra) for palabra in palabras if palabra.isalpha() and palabra not in stop_words]\n",
    "    return ' '.join(palabras)"
   ]
  },
  {
   "cell_type": "code",
   "execution_count": 8,
   "id": "f16ff528-8ac1-4acb-ade9-403c35632934",
   "metadata": {
    "tags": []
   },
   "outputs": [],
   "source": [
    "descripciones_preprocesadas = [preprocesar_texto(desc) for desc in descripciones]"
   ]
  },
  {
   "cell_type": "code",
   "execution_count": 9,
   "id": "e15c8237-1cfc-44c2-a570-18393e8c11b7",
   "metadata": {
    "tags": []
   },
   "outputs": [],
   "source": [
    "# División de los datos en conjuntos de entrenamiento y prueba\n",
    "X_train, X_test, y_train, y_test = train_test_split(descripciones_preprocesadas, etiquetas_numericas, test_size=0.2, random_state=42)"
   ]
  },
  {
   "cell_type": "code",
   "execution_count": 10,
   "id": "81cfb660-646b-418b-b8bf-77e0d2257371",
   "metadata": {
    "tags": []
   },
   "outputs": [],
   "source": [
    "# Creación del pipeline para el clasificador basado en texto\n",
    "pipeline = Pipeline([\n",
    "    ('tfidf', TfidfVectorizer(max_features=5000)),  # Experimenta con diferentes valores para max_features\n",
    "    ('clf', SVC(kernel='linear'))  # Experimenta con diferentes kernels\n",
    "])"
   ]
  },
  {
   "cell_type": "code",
   "execution_count": 11,
   "id": "8e1ca8b1-5562-42d6-82f6-b94dc0dd5658",
   "metadata": {
    "tags": []
   },
   "outputs": [
    {
     "name": "stderr",
     "output_type": "stream",
     "text": [
      "c:\\Users\\Josvaldes\\AppData\\Local\\Programs\\Python\\Python311\\Lib\\site-packages\\sklearn\\model_selection\\_split.py:725: UserWarning: The least populated class in y has only 4 members, which is less than n_splits=5.\n",
      "  warnings.warn(\n"
     ]
    }
   ],
   "source": [
    "# Entrenamiento del modelo\n",
    "pipeline.fit(X_train, y_train)\n",
    "scores = cross_val_score(pipeline, X_train, y_train, cv=5) "
   ]
  },
  {
   "cell_type": "code",
   "execution_count": 12,
   "id": "f2d7fbb0-4fd3-4ca7-bbfc-8df68943afb2",
   "metadata": {
    "tags": []
   },
   "outputs": [
    {
     "name": "stdout",
     "output_type": "stream",
     "text": [
      "Accuracy en validación cruzada: 0.7538706174634751\n"
     ]
    }
   ],
   "source": [
    "print(\"Accuracy en validación cruzada:\", scores.mean())"
   ]
  },
  {
   "cell_type": "code",
   "execution_count": 13,
   "id": "2b81efba-7c07-4c03-88da-a6e7174863b5",
   "metadata": {},
   "outputs": [
    {
     "name": "stdout",
     "output_type": "stream",
     "text": [
      "                                                                                                   precision    recall  f1-score   support\n",
      "\n",
      "                                                                    B - Descargas de electricidad       0.29      0.17      0.21        12\n",
      "                                               B - La llama no enciende al abrir el grifo de agua       0.76      0.95      0.84        39\n",
      "                                                      B - Pérdidas de gas sin/con piezas quemadas       1.00      0.00      0.00         6\n",
      "                                                    B - Pérdidas de gas – sin/con piezas quemadas       1.00      0.00      0.00         7\n",
      "                                                          B2 - Pérdidas de gas sin piezas dañadas       0.75      0.78      0.76       278\n",
      "                              C - La llama se apaga luego de algunos minutos de estar funcionando       1.00      0.67      0.80        15\n",
      "                                                                             C - Pérdidas de agua       0.91      0.93      0.92       341\n",
      "                                                                    C2 - Horno Mal funcionamiento       0.70      0.74      0.72       313\n",
      "                                                            D - El agua sale con temperatura baja       1.00      0.33      0.50         3\n",
      "                                                                                  D - No enciende       0.63      0.44      0.52       251\n",
      "                                                                        D1 - Hornalla No enciende       0.50      0.32      0.39        62\n",
      "                                                                 D2 - Hornalla Mal funcionamiento       0.52      0.54      0.53       268\n",
      "                                                                           D3 - Hornalla Se Apaga       0.57      0.55      0.56       141\n",
      "                                                      E - El agua sale con temperatura baja, alta       0.68      0.84      0.75       376\n",
      "                                                                              E - Piloto se apaga       0.84      0.93      0.88       254\n",
      "                                                         E - Puerta de horno - No cierra / Se cae       0.90      0.95      0.92       429\n",
      "F - No calienta agua Mal funcionamientoQuemador no enciende Quemador se apagaQuemador no se apaga       0.81      0.45      0.58        75\n",
      "                                                                  F - Puerta Parrilla - No cierra       0.83      0.19      0.31        26\n",
      "                                                                              F - Pérdida de agua       1.00      0.33      0.50         3\n",
      "                                                                   G - Perilla no gira / gira mal       0.66      0.68      0.67        74\n",
      "                                                            G - Pérdida de gas SIN piezas dañadas       1.00      0.00      0.00         1\n",
      "                                                            H - Pérdida de gas CON piezas dañadas       1.00      0.00      0.00         1\n",
      "                                                              K - Fallas en encendido electrónico       0.70      0.49      0.58        39\n",
      "                                                                             M - Vidrio estallado       0.83      0.91      0.87        22\n",
      "\n",
      "                                                                                         accuracy                           0.74      3036\n",
      "                                                                                        macro avg       0.79      0.51      0.53      3036\n",
      "                                                                                     weighted avg       0.74      0.74      0.73      3036\n",
      "\n"
     ]
    }
   ],
   "source": [
    "# Evaluación del modelo en el conjunto de prueba\n",
    "y_pred = pipeline.predict(X_test)\n",
    "report = classification_report(y_test, y_pred, labels=np.unique(etiquetas_numericas), target_names=label_encoder.inverse_transform(np.unique(etiquetas_numericas)), zero_division=1)\n",
    "print(report)"
   ]
  },
  {
   "cell_type": "code",
   "execution_count": 14,
   "id": "b3c49c50",
   "metadata": {},
   "outputs": [
    {
     "data": {
      "text/html": [
       "<div>\n",
       "<style scoped>\n",
       "    .dataframe tbody tr th:only-of-type {\n",
       "        vertical-align: middle;\n",
       "    }\n",
       "\n",
       "    .dataframe tbody tr th {\n",
       "        vertical-align: top;\n",
       "    }\n",
       "\n",
       "    .dataframe thead th {\n",
       "        text-align: right;\n",
       "    }\n",
       "</style>\n",
       "<table border=\"1\" class=\"dataframe\">\n",
       "  <thead>\n",
       "    <tr style=\"text-align: right;\">\n",
       "      <th></th>\n",
       "      <th>Descripcion</th>\n",
       "    </tr>\n",
       "  </thead>\n",
       "  <tbody>\n",
       "    <tr>\n",
       "      <th>0</th>\n",
       "      <td>TERMO 45 L GN (U.) GAS - Termo a gas \" EL EQUI...</td>\n",
       "    </tr>\n",
       "    <tr>\n",
       "      <th>1</th>\n",
       "      <td>TERMO ELECTRICO EL-55 ELE - Termo eléctrico \" ...</td>\n",
       "    </tr>\n",
       "    <tr>\n",
       "      <th>2</th>\n",
       "      <td>COCINA PALACE CRISTAL BLACK LX S2 (GN) (U.) GN...</td>\n",
       "    </tr>\n",
       "    <tr>\n",
       "      <th>3</th>\n",
       "      <td>TERMO 80 L GN (U.) GAS - Termo a gas \" NO SE M...</td>\n",
       "    </tr>\n",
       "    <tr>\n",
       "      <th>4</th>\n",
       "      <td>TERMO ELECTRICO EL-90 ELE - Termo eléctrico \" ...</td>\n",
       "    </tr>\n",
       "    <tr>\n",
       "      <th>5</th>\n",
       "      <td>COCINA CANDOR S2 (GN) (U.) GN - Gas Natural \" ...</td>\n",
       "    </tr>\n",
       "    <tr>\n",
       "      <th>6</th>\n",
       "      <td>COCINA MASTER S2 BL CLASSIC. (GN.) (U.) GN - G...</td>\n",
       "    </tr>\n",
       "    <tr>\n",
       "      <th>7</th>\n",
       "      <td>COCINA PALACE CRISTAL BLACK LX S2 (GN) (U.) GN...</td>\n",
       "    </tr>\n",
       "    <tr>\n",
       "      <th>8</th>\n",
       "      <td>COCINA MASTER S2 NEG.CLASSIC (GN) (U.) GN - Ga...</td>\n",
       "    </tr>\n",
       "    <tr>\n",
       "      <th>9</th>\n",
       "      <td>COCINA MASTER S2 NEG.CLASSIC (GN) (U.) GN - Ga...</td>\n",
       "    </tr>\n",
       "    <tr>\n",
       "      <th>10</th>\n",
       "      <td>TERMO ELECTRICO EL-55 ELE - Termo eléctrico \" ...</td>\n",
       "    </tr>\n",
       "    <tr>\n",
       "      <th>11</th>\n",
       "      <td>TERMO 45 L GN (U.) GAS - Termo a gas \"</td>\n",
       "    </tr>\n",
       "    <tr>\n",
       "      <th>12</th>\n",
       "      <td>COCINA MASTER STYLE INOX. MULTIGAS (U.) MG - M...</td>\n",
       "    </tr>\n",
       "    <tr>\n",
       "      <th>13</th>\n",
       "      <td>TERMO ELECTRICO EL-90 ELE - Termo eléctrico \" ...</td>\n",
       "    </tr>\n",
       "    <tr>\n",
       "      <th>14</th>\n",
       "      <td>COCINA CANDOR S2 BLACK GL (U.) GE - Gas Envasa...</td>\n",
       "    </tr>\n",
       "    <tr>\n",
       "      <th>15</th>\n",
       "      <td>COCINA CANDOR S2 BLACK (GN) (U.) GN - Gas Natu...</td>\n",
       "    </tr>\n",
       "  </tbody>\n",
       "</table>\n",
       "</div>"
      ],
      "text/plain": [
       "                                          Descripcion\n",
       "0   TERMO 45 L GN (U.) GAS - Termo a gas \" EL EQUI...\n",
       "1   TERMO ELECTRICO EL-55 ELE - Termo eléctrico \" ...\n",
       "2   COCINA PALACE CRISTAL BLACK LX S2 (GN) (U.) GN...\n",
       "3   TERMO 80 L GN (U.) GAS - Termo a gas \" NO SE M...\n",
       "4   TERMO ELECTRICO EL-90 ELE - Termo eléctrico \" ...\n",
       "5   COCINA CANDOR S2 (GN) (U.) GN - Gas Natural \" ...\n",
       "6   COCINA MASTER S2 BL CLASSIC. (GN.) (U.) GN - G...\n",
       "7   COCINA PALACE CRISTAL BLACK LX S2 (GN) (U.) GN...\n",
       "8   COCINA MASTER S2 NEG.CLASSIC (GN) (U.) GN - Ga...\n",
       "9   COCINA MASTER S2 NEG.CLASSIC (GN) (U.) GN - Ga...\n",
       "10  TERMO ELECTRICO EL-55 ELE - Termo eléctrico \" ...\n",
       "11            TERMO 45 L GN (U.) GAS - Termo a gas \" \n",
       "12  COCINA MASTER STYLE INOX. MULTIGAS (U.) MG - M...\n",
       "13  TERMO ELECTRICO EL-90 ELE - Termo eléctrico \" ...\n",
       "14  COCINA CANDOR S2 BLACK GL (U.) GE - Gas Envasa...\n",
       "15  COCINA CANDOR S2 BLACK (GN) (U.) GN - Gas Natu..."
      ]
     },
     "execution_count": 14,
     "metadata": {},
     "output_type": "execute_result"
    }
   ],
   "source": [
    "# Cargar descripciones de problemas para evaluar\n",
    "archivo_evaluacion = 'C:/Users/Josvaldes/Documents/Maestria/Austral/2ano/textMining/proyecto/TextMining/TextMining/testesco.txt'\n",
    "lineas = pd.read_csv(archivo_evaluacion, delimiter='\\t', header=None, names=['Descripcion'])\n",
    "lineas"
   ]
  },
  {
   "cell_type": "code",
   "execution_count": 15,
   "id": "10cf7881",
   "metadata": {},
   "outputs": [],
   "source": [
    "resultados = []\n",
    "\n",
    "for index, row in lineas.iterrows():\n",
    "    problema = row['Descripcion'].strip()\n",
    "    problema_preprocesado = preprocesar_texto(problema)\n",
    "    predicciones = pipeline.predict([problema_preprocesado])\n",
    "    clase_predicha = label_encoder.inverse_transform(predicciones)[0]\n",
    "    resultados.append({\n",
    "        'Problema': problema,\n",
    "        'Etiqueta de Reclamo': clase_predicha\n",
    "    })\n",
    "    \n",
    "\n",
    "resultados_df = pd.DataFrame(resultados)\n"
   ]
  },
  {
   "cell_type": "code",
   "execution_count": 16,
   "id": "3157cd76",
   "metadata": {},
   "outputs": [
    {
     "name": "stdout",
     "output_type": "stream",
     "text": [
      "Resultados guardados en: C:/Users/Josvaldes/Documents/Maestria/Austral/2ano/textMining/proyecto/TextMining/TextMining/testresultadoCV_SVC4.txt\n"
     ]
    }
   ],
   "source": [
    "archivo_resultado = 'C:/Users/Josvaldes/Documents/Maestria/Austral/2ano/textMining/proyecto/TextMining/TextMining/testresultadoCV_SVC4.txt'\n",
    "resultados_df.to_csv(archivo_resultado, index=False, sep='\\t', encoding='utf-8')\n",
    "\n",
    "print(\"Resultados guardados en:\", archivo_resultado)"
   ]
  },
  {
   "cell_type": "code",
   "execution_count": 17,
   "id": "f7e66bb7",
   "metadata": {},
   "outputs": [
    {
     "data": {
      "text/html": [
       "<div>\n",
       "<style scoped>\n",
       "    .dataframe tbody tr th:only-of-type {\n",
       "        vertical-align: middle;\n",
       "    }\n",
       "\n",
       "    .dataframe tbody tr th {\n",
       "        vertical-align: top;\n",
       "    }\n",
       "\n",
       "    .dataframe thead th {\n",
       "        text-align: right;\n",
       "    }\n",
       "</style>\n",
       "<table border=\"1\" class=\"dataframe\">\n",
       "  <thead>\n",
       "    <tr style=\"text-align: right;\">\n",
       "      <th></th>\n",
       "      <th>Problema</th>\n",
       "      <th>Etiqueta de Reclamo</th>\n",
       "    </tr>\n",
       "  </thead>\n",
       "  <tbody>\n",
       "    <tr>\n",
       "      <th>0</th>\n",
       "      <td>TERMO 45 L GN (U.) GAS - Termo a gas \" EL EQUI...</td>\n",
       "      <td>C - Pérdidas de agua</td>\n",
       "    </tr>\n",
       "    <tr>\n",
       "      <th>1</th>\n",
       "      <td>TERMO ELECTRICO EL-55 ELE - Termo eléctrico \" ...</td>\n",
       "      <td>C - Pérdidas de agua</td>\n",
       "    </tr>\n",
       "    <tr>\n",
       "      <th>2</th>\n",
       "      <td>COCINA PALACE CRISTAL BLACK LX S2 (GN) (U.) GN...</td>\n",
       "      <td>E - Puerta de horno - No cierra / Se cae</td>\n",
       "    </tr>\n",
       "    <tr>\n",
       "      <th>3</th>\n",
       "      <td>TERMO 80 L GN (U.) GAS - Termo a gas \" NO SE M...</td>\n",
       "      <td>E - Piloto se apaga</td>\n",
       "    </tr>\n",
       "    <tr>\n",
       "      <th>4</th>\n",
       "      <td>TERMO ELECTRICO EL-90 ELE - Termo eléctrico \" ...</td>\n",
       "      <td>C - Pérdidas de agua</td>\n",
       "    </tr>\n",
       "    <tr>\n",
       "      <th>5</th>\n",
       "      <td>COCINA CANDOR S2 (GN) (U.) GN - Gas Natural \" ...</td>\n",
       "      <td>E - Puerta de horno - No cierra / Se cae</td>\n",
       "    </tr>\n",
       "    <tr>\n",
       "      <th>6</th>\n",
       "      <td>COCINA MASTER S2 BL CLASSIC. (GN.) (U.) GN - G...</td>\n",
       "      <td>D1 - Hornalla No enciende</td>\n",
       "    </tr>\n",
       "    <tr>\n",
       "      <th>7</th>\n",
       "      <td>COCINA PALACE CRISTAL BLACK LX S2 (GN) (U.) GN...</td>\n",
       "      <td>D2 - Hornalla Mal funcionamiento</td>\n",
       "    </tr>\n",
       "    <tr>\n",
       "      <th>8</th>\n",
       "      <td>COCINA MASTER S2 NEG.CLASSIC (GN) (U.) GN - Ga...</td>\n",
       "      <td>D3 - Hornalla Se Apaga</td>\n",
       "    </tr>\n",
       "    <tr>\n",
       "      <th>9</th>\n",
       "      <td>COCINA MASTER S2 NEG.CLASSIC (GN) (U.) GN - Ga...</td>\n",
       "      <td>B2 - Pérdidas de gas sin piezas dañadas</td>\n",
       "    </tr>\n",
       "    <tr>\n",
       "      <th>10</th>\n",
       "      <td>TERMO ELECTRICO EL-55 ELE - Termo eléctrico \" ...</td>\n",
       "      <td>D - No enciende</td>\n",
       "    </tr>\n",
       "    <tr>\n",
       "      <th>11</th>\n",
       "      <td>TERMO 45 L GN (U.) GAS - Termo a gas \"</td>\n",
       "      <td>E - Piloto se apaga</td>\n",
       "    </tr>\n",
       "    <tr>\n",
       "      <th>12</th>\n",
       "      <td>COCINA MASTER STYLE INOX. MULTIGAS (U.) MG - M...</td>\n",
       "      <td>D3 - Hornalla Se Apaga</td>\n",
       "    </tr>\n",
       "    <tr>\n",
       "      <th>13</th>\n",
       "      <td>TERMO ELECTRICO EL-90 ELE - Termo eléctrico \" ...</td>\n",
       "      <td>D - No enciende</td>\n",
       "    </tr>\n",
       "    <tr>\n",
       "      <th>14</th>\n",
       "      <td>COCINA CANDOR S2 BLACK GL (U.) GE - Gas Envasa...</td>\n",
       "      <td>E - Puerta de horno - No cierra / Se cae</td>\n",
       "    </tr>\n",
       "    <tr>\n",
       "      <th>15</th>\n",
       "      <td>COCINA CANDOR S2 BLACK (GN) (U.) GN - Gas Natu...</td>\n",
       "      <td>D3 - Hornalla Se Apaga</td>\n",
       "    </tr>\n",
       "  </tbody>\n",
       "</table>\n",
       "</div>"
      ],
      "text/plain": [
       "                                             Problema   \n",
       "0   TERMO 45 L GN (U.) GAS - Termo a gas \" EL EQUI...  \\\n",
       "1   TERMO ELECTRICO EL-55 ELE - Termo eléctrico \" ...   \n",
       "2   COCINA PALACE CRISTAL BLACK LX S2 (GN) (U.) GN...   \n",
       "3   TERMO 80 L GN (U.) GAS - Termo a gas \" NO SE M...   \n",
       "4   TERMO ELECTRICO EL-90 ELE - Termo eléctrico \" ...   \n",
       "5   COCINA CANDOR S2 (GN) (U.) GN - Gas Natural \" ...   \n",
       "6   COCINA MASTER S2 BL CLASSIC. (GN.) (U.) GN - G...   \n",
       "7   COCINA PALACE CRISTAL BLACK LX S2 (GN) (U.) GN...   \n",
       "8   COCINA MASTER S2 NEG.CLASSIC (GN) (U.) GN - Ga...   \n",
       "9   COCINA MASTER S2 NEG.CLASSIC (GN) (U.) GN - Ga...   \n",
       "10  TERMO ELECTRICO EL-55 ELE - Termo eléctrico \" ...   \n",
       "11             TERMO 45 L GN (U.) GAS - Termo a gas \"   \n",
       "12  COCINA MASTER STYLE INOX. MULTIGAS (U.) MG - M...   \n",
       "13  TERMO ELECTRICO EL-90 ELE - Termo eléctrico \" ...   \n",
       "14  COCINA CANDOR S2 BLACK GL (U.) GE - Gas Envasa...   \n",
       "15  COCINA CANDOR S2 BLACK (GN) (U.) GN - Gas Natu...   \n",
       "\n",
       "                         Etiqueta de Reclamo  \n",
       "0                       C - Pérdidas de agua  \n",
       "1                       C - Pérdidas de agua  \n",
       "2   E - Puerta de horno - No cierra / Se cae  \n",
       "3                        E - Piloto se apaga  \n",
       "4                       C - Pérdidas de agua  \n",
       "5   E - Puerta de horno - No cierra / Se cae  \n",
       "6                  D1 - Hornalla No enciende  \n",
       "7           D2 - Hornalla Mal funcionamiento  \n",
       "8                     D3 - Hornalla Se Apaga  \n",
       "9    B2 - Pérdidas de gas sin piezas dañadas  \n",
       "10                           D - No enciende  \n",
       "11                       E - Piloto se apaga  \n",
       "12                    D3 - Hornalla Se Apaga  \n",
       "13                           D - No enciende  \n",
       "14  E - Puerta de horno - No cierra / Se cae  \n",
       "15                    D3 - Hornalla Se Apaga  "
      ]
     },
     "execution_count": 17,
     "metadata": {},
     "output_type": "execute_result"
    }
   ],
   "source": [
    "# Leer el archivo excel\n",
    "dfPrueba = pd.read_csv(archivo_resultado, encoding='utf-8', delimiter='\\t')\n",
    "dfPrueba"
   ]
  }
 ],
 "metadata": {
  "kernelspec": {
   "display_name": "Python 3",
   "language": "python",
   "name": "python3"
  },
  "language_info": {
   "codemirror_mode": {
    "name": "ipython",
    "version": 3
   },
   "file_extension": ".py",
   "mimetype": "text/x-python",
   "name": "python",
   "nbconvert_exporter": "python",
   "pygments_lexer": "ipython3",
   "version": "3.11.4"
  }
 },
 "nbformat": 4,
 "nbformat_minor": 5
}
