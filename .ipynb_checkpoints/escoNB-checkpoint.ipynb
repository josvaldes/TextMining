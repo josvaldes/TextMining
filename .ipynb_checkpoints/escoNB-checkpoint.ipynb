{
 "cells": [
  {
   "cell_type": "code",
   "execution_count": 1,
   "id": "699c7021-1d7b-4a5b-a5e3-c82186df61ce",
   "metadata": {
    "tags": []
   },
   "outputs": [
    {
     "name": "stderr",
     "output_type": "stream",
     "text": [
      "[nltk_data] Downloading package stopwords to\n",
      "[nltk_data]     C:\\Users\\Josvaldes\\AppData\\Roaming\\nltk_data...\n",
      "[nltk_data]   Package stopwords is already up-to-date!\n",
      "[nltk_data] Downloading package punkt to\n",
      "[nltk_data]     C:\\Users\\Josvaldes\\AppData\\Roaming\\nltk_data...\n",
      "[nltk_data]   Package punkt is already up-to-date!\n"
     ]
    },
    {
     "data": {
      "text/plain": [
       "True"
      ]
     },
     "execution_count": 1,
     "metadata": {},
     "output_type": "execute_result"
    }
   ],
   "source": [
    "import pandas as pd\n",
    "from sklearn.feature_extraction.text import CountVectorizer, TfidfTransformer\n",
    "from sklearn.pipeline import Pipeline\n",
    "from sklearn.model_selection import train_test_split\n",
    "from sklearn.metrics import classification_report\n",
    "from sklearn.ensemble import RandomForestClassifier\n",
    "from sklearn.preprocessing import LabelEncoder\n",
    "import numpy as np\n",
    "import re\n",
    "import nltk\n",
    "from nltk.stem import SnowballStemmer\n",
    "from nltk.corpus import stopwords\n",
    "nltk.download('stopwords')\n",
    "nltk.download('punkt')"
   ]
  },
  {
   "cell_type": "code",
   "execution_count": 2,
   "id": "7bb726d9-022f-49ef-b060-ec0c8426df40",
   "metadata": {
    "tags": []
   },
   "outputs": [
    {
     "data": {
      "text/html": [
       "<div>\n",
       "<style scoped>\n",
       "    .dataframe tbody tr th:only-of-type {\n",
       "        vertical-align: middle;\n",
       "    }\n",
       "\n",
       "    .dataframe tbody tr th {\n",
       "        vertical-align: top;\n",
       "    }\n",
       "\n",
       "    .dataframe thead th {\n",
       "        text-align: right;\n",
       "    }\n",
       "</style>\n",
       "<table border=\"1\" class=\"dataframe\">\n",
       "  <thead>\n",
       "    <tr style=\"text-align: right;\">\n",
       "      <th></th>\n",
       "      <th>problema_id</th>\n",
       "      <th>descripcion</th>\n",
       "      <th>alias_8_nombre3</th>\n",
       "      <th>problema_n</th>\n",
       "      <th>obsitem</th>\n",
       "      <th>Concaobsitem</th>\n",
       "    </tr>\n",
       "  </thead>\n",
       "  <tbody>\n",
       "    <tr>\n",
       "      <th>0</th>\n",
       "      <td>70e03aaf-6cfb-42e8-92ae-fcb46ff479dd</td>\n",
       "      <td>COCINA PALACE CRISTAL BLACK LX S2 (GN) (U.)</td>\n",
       "      <td>GN - Gas Natural</td>\n",
       "      <td>B1 - Pérdidas de gas con piezas dañadas</td>\n",
       "      <td>HAY UNA PERILLA DE LAS HORNALLA QUE NO SE PUED...</td>\n",
       "      <td>COCINA PALACE CRISTAL BLACK LX S2 (GN) (U.) GN...</td>\n",
       "    </tr>\n",
       "    <tr>\n",
       "      <th>1</th>\n",
       "      <td>e5be47a0-c506-4a79-87e9-2a45f06d496c</td>\n",
       "      <td>COCINA PALACE CRISTAL BLACK LX S2 (GN) (U.)</td>\n",
       "      <td>GN - Gas Natural</td>\n",
       "      <td>G - Perilla no gira / gira mal</td>\n",
       "      <td>HAY UNA PERILLA DE LAS HORNALLA QUE NO SE PUED...</td>\n",
       "      <td>COCINA PALACE CRISTAL BLACK LX S2 (GN) (U.) GN...</td>\n",
       "    </tr>\n",
       "    <tr>\n",
       "      <th>2</th>\n",
       "      <td>2b2af341-20c5-4607-baa0-01972617647e</td>\n",
       "      <td>TERMO ELECTRICO EL-55</td>\n",
       "      <td>ELE - Termo eléctrico</td>\n",
       "      <td>D - No enciende</td>\n",
       "      <td>DESPUÉS DE QUE UNA PERSONA SE DUCHO NO VOLVIÓ ...</td>\n",
       "      <td>TERMO ELECTRICO EL-55 ELE - Termo eléctrico \" ...</td>\n",
       "    </tr>\n",
       "    <tr>\n",
       "      <th>3</th>\n",
       "      <td>ab0ed03a-8aab-4317-9aad-fcc06dd41520</td>\n",
       "      <td>COCINA PALACE CRISTAL BLACK LX S2 (GN) (U.)</td>\n",
       "      <td>GN - Gas Natural</td>\n",
       "      <td>D2 - Hornalla Mal funcionamiento</td>\n",
       "      <td>NaN</td>\n",
       "      <td>COCINA PALACE CRISTAL BLACK LX S2 (GN) (U.) GN...</td>\n",
       "    </tr>\n",
       "    <tr>\n",
       "      <th>4</th>\n",
       "      <td>ab0ed03a-8aab-4317-9aad-fcc06dd41520</td>\n",
       "      <td>COCINA PALACE CRISTAL BLACK LX S2 (GN) (U.)</td>\n",
       "      <td>GN - Gas Natural</td>\n",
       "      <td>D2 - Hornalla Mal funcionamiento</td>\n",
       "      <td>LAS HORNALLAS TARDAN MUCHÍSIMO TIEMPO EN PREND...</td>\n",
       "      <td>COCINA PALACE CRISTAL BLACK LX S2 (GN) (U.) GN...</td>\n",
       "    </tr>\n",
       "    <tr>\n",
       "      <th>...</th>\n",
       "      <td>...</td>\n",
       "      <td>...</td>\n",
       "      <td>...</td>\n",
       "      <td>...</td>\n",
       "      <td>...</td>\n",
       "      <td>...</td>\n",
       "    </tr>\n",
       "    <tr>\n",
       "      <th>18709</th>\n",
       "      <td>b3e96d44-2a08-4f8b-b63e-df346e84ecaa</td>\n",
       "      <td>COCINA PALACE CRISTAL LX S2 (GN) (U.)</td>\n",
       "      <td>GN - Gas Natural</td>\n",
       "      <td>K - Fallas en encendido electrónico</td>\n",
       "      <td>NaN</td>\n",
       "      <td>COCINA PALACE CRISTAL LX S2 (GN) (U.) GN - Gas...</td>\n",
       "    </tr>\n",
       "    <tr>\n",
       "      <th>18710</th>\n",
       "      <td>8c5fec8e-37bc-46ac-a031-717476ef2f6f</td>\n",
       "      <td>COCINA PALACE CRISTAL LX S2 (GN) (U.)</td>\n",
       "      <td>GN - Gas Natural</td>\n",
       "      <td>E - Puerta de horno - No cierra / Se cae</td>\n",
       "      <td>SE ROMPIÓ LA BISAGRA DE LA PUERTA DEL HORNO</td>\n",
       "      <td>COCINA PALACE CRISTAL LX S2 (GN) (U.) GN - Gas...</td>\n",
       "    </tr>\n",
       "    <tr>\n",
       "      <th>18711</th>\n",
       "      <td>553f6bde-32ee-4099-a99a-15a4ff7729f4</td>\n",
       "      <td>COCINA PALACE CRISTAL LX S2 (GL) (U.)</td>\n",
       "      <td>GE - Gas Envasado</td>\n",
       "      <td>C2 - Horno Mal funcionamiento</td>\n",
       "      <td>NaN</td>\n",
       "      <td>COCINA PALACE CRISTAL LX S2 (GL) (U.) GE - Gas...</td>\n",
       "    </tr>\n",
       "    <tr>\n",
       "      <th>18712</th>\n",
       "      <td>5e810261-6a73-470d-b900-5018f9f83927</td>\n",
       "      <td>COCINA PALACE CRISTAL LX S2 (GL) (U.)</td>\n",
       "      <td>GE - Gas Envasado</td>\n",
       "      <td>D3 - Hornalla Se Apaga</td>\n",
       "      <td>- PROBLEMAS CON EL HORNO.\\n \\n - EL HORNO PERM...</td>\n",
       "      <td>COCINA PALACE CRISTAL LX S2 (GL) (U.) GE - Gas...</td>\n",
       "    </tr>\n",
       "    <tr>\n",
       "      <th>18713</th>\n",
       "      <td>c5952495-6ee0-4566-8853-bfcdb75bf88d</td>\n",
       "      <td>TERMO 120 L GN (U.)</td>\n",
       "      <td>GAS - Termo a gas</td>\n",
       "      <td>E - Piloto se apaga</td>\n",
       "      <td>EL TERMOTANQUE SE APAGA</td>\n",
       "      <td>TERMO 120 L GN (U.) GAS - Termo a gas \" EL TER...</td>\n",
       "    </tr>\n",
       "  </tbody>\n",
       "</table>\n",
       "<p>18714 rows × 6 columns</p>\n",
       "</div>"
      ],
      "text/plain": [
       "                                problema_id   \n",
       "0      70e03aaf-6cfb-42e8-92ae-fcb46ff479dd  \\\n",
       "1      e5be47a0-c506-4a79-87e9-2a45f06d496c   \n",
       "2      2b2af341-20c5-4607-baa0-01972617647e   \n",
       "3      ab0ed03a-8aab-4317-9aad-fcc06dd41520   \n",
       "4      ab0ed03a-8aab-4317-9aad-fcc06dd41520   \n",
       "...                                     ...   \n",
       "18709  b3e96d44-2a08-4f8b-b63e-df346e84ecaa   \n",
       "18710  8c5fec8e-37bc-46ac-a031-717476ef2f6f   \n",
       "18711  553f6bde-32ee-4099-a99a-15a4ff7729f4   \n",
       "18712  5e810261-6a73-470d-b900-5018f9f83927   \n",
       "18713  c5952495-6ee0-4566-8853-bfcdb75bf88d   \n",
       "\n",
       "                                       descripcion        alias_8_nombre3   \n",
       "0      COCINA PALACE CRISTAL BLACK LX S2 (GN) (U.)       GN - Gas Natural  \\\n",
       "1      COCINA PALACE CRISTAL BLACK LX S2 (GN) (U.)       GN - Gas Natural   \n",
       "2                            TERMO ELECTRICO EL-55  ELE - Termo eléctrico   \n",
       "3      COCINA PALACE CRISTAL BLACK LX S2 (GN) (U.)       GN - Gas Natural   \n",
       "4      COCINA PALACE CRISTAL BLACK LX S2 (GN) (U.)       GN - Gas Natural   \n",
       "...                                            ...                    ...   \n",
       "18709        COCINA PALACE CRISTAL LX S2 (GN) (U.)       GN - Gas Natural   \n",
       "18710        COCINA PALACE CRISTAL LX S2 (GN) (U.)       GN - Gas Natural   \n",
       "18711        COCINA PALACE CRISTAL LX S2 (GL) (U.)      GE - Gas Envasado   \n",
       "18712        COCINA PALACE CRISTAL LX S2 (GL) (U.)      GE - Gas Envasado   \n",
       "18713                          TERMO 120 L GN (U.)      GAS - Termo a gas   \n",
       "\n",
       "                                     problema_n   \n",
       "0       B1 - Pérdidas de gas con piezas dañadas  \\\n",
       "1                G - Perilla no gira / gira mal   \n",
       "2                               D - No enciende   \n",
       "3              D2 - Hornalla Mal funcionamiento   \n",
       "4              D2 - Hornalla Mal funcionamiento   \n",
       "...                                         ...   \n",
       "18709       K - Fallas en encendido electrónico   \n",
       "18710  E - Puerta de horno - No cierra / Se cae   \n",
       "18711             C2 - Horno Mal funcionamiento   \n",
       "18712                    D3 - Hornalla Se Apaga   \n",
       "18713                       E - Piloto se apaga   \n",
       "\n",
       "                                                 obsitem   \n",
       "0      HAY UNA PERILLA DE LAS HORNALLA QUE NO SE PUED...  \\\n",
       "1      HAY UNA PERILLA DE LAS HORNALLA QUE NO SE PUED...   \n",
       "2      DESPUÉS DE QUE UNA PERSONA SE DUCHO NO VOLVIÓ ...   \n",
       "3                                                    NaN   \n",
       "4      LAS HORNALLAS TARDAN MUCHÍSIMO TIEMPO EN PREND...   \n",
       "...                                                  ...   \n",
       "18709                                                NaN   \n",
       "18710        SE ROMPIÓ LA BISAGRA DE LA PUERTA DEL HORNO   \n",
       "18711                                                NaN   \n",
       "18712  - PROBLEMAS CON EL HORNO.\\n \\n - EL HORNO PERM...   \n",
       "18713                            EL TERMOTANQUE SE APAGA   \n",
       "\n",
       "                                            Concaobsitem  \n",
       "0      COCINA PALACE CRISTAL BLACK LX S2 (GN) (U.) GN...  \n",
       "1      COCINA PALACE CRISTAL BLACK LX S2 (GN) (U.) GN...  \n",
       "2      TERMO ELECTRICO EL-55 ELE - Termo eléctrico \" ...  \n",
       "3      COCINA PALACE CRISTAL BLACK LX S2 (GN) (U.) GN...  \n",
       "4      COCINA PALACE CRISTAL BLACK LX S2 (GN) (U.) GN...  \n",
       "...                                                  ...  \n",
       "18709  COCINA PALACE CRISTAL LX S2 (GN) (U.) GN - Gas...  \n",
       "18710  COCINA PALACE CRISTAL LX S2 (GN) (U.) GN - Gas...  \n",
       "18711  COCINA PALACE CRISTAL LX S2 (GL) (U.) GE - Gas...  \n",
       "18712  COCINA PALACE CRISTAL LX S2 (GL) (U.) GE - Gas...  \n",
       "18713  TERMO 120 L GN (U.) GAS - Termo a gas \" EL TER...  \n",
       "\n",
       "[18714 rows x 6 columns]"
      ]
     },
     "execution_count": 2,
     "metadata": {},
     "output_type": "execute_result"
    }
   ],
   "source": [
    "# Leer el archivo CSV\n",
    "df = pd.read_csv('C:/Users/Josvaldes/Documents/Maestria/Austral/2ano/textMining/proyecto/TextMining/TextMining/RECLAMOS 3.csv', encoding='utf-8')\n",
    "df"
   ]
  },
  {
   "cell_type": "code",
   "execution_count": 3,
   "id": "f35d5657-30f0-44d6-a472-ec7c9f7fc463",
   "metadata": {
    "tags": []
   },
   "outputs": [],
   "source": [
    "# Obtener las columnas de diagnósticos y códigos AIS\n",
    "Oitems = df['Concaobsitem'].tolist()\n",
    "ids = df['problema_id'].tolist()"
   ]
  },
  {
   "cell_type": "code",
   "execution_count": 4,
   "id": "aadb9bfe-4137-4d84-b35b-8e17e79d520e",
   "metadata": {
    "tags": []
   },
   "outputs": [],
   "source": [
    "#Se almacenan los elementos de Oitems como cadenas de caracteres en descripciones\n",
    "descripciones = [str(desc) for desc in Oitems]"
   ]
  },
  {
   "cell_type": "code",
   "execution_count": 5,
   "id": "d9f0c48c-34ef-4188-8ae5-87d2569000f1",
   "metadata": {
    "tags": []
   },
   "outputs": [],
   "source": [
    "# Codificar los códigos AIS como etiquetas numéricas\n",
    "label_encoder = LabelEncoder()\n",
    "codigos_AIS_numericos = label_encoder.fit_transform(ids)"
   ]
  },
  {
   "cell_type": "code",
   "execution_count": 6,
   "id": "07ab0ef0-f672-45a3-a28c-228fec35e782",
   "metadata": {
    "tags": []
   },
   "outputs": [],
   "source": [
    "# Función para realizar stemming en una descripción\n",
    "stemmer = SnowballStemmer('spanish')\n",
    "def stem_descripcion(descripcion):\n",
    "    words = nltk.word_tokenize(descripcion)\n",
    "    words = [stemmer.stem(word) for word in words if word not in stopwords.words('spanish')]\n",
    "    return ' '.join(words)"
   ]
  },
  {
   "cell_type": "code",
   "execution_count": 7,
   "id": "82cd3843-369d-450f-a270-e5b51b820a83",
   "metadata": {
    "tags": []
   },
   "outputs": [],
   "source": [
    "# Aplicar stemming a las descripciones\n",
    "descripciones_stemmed = [stem_descripcion(desc) for desc in descripciones]"
   ]
  },
  {
   "cell_type": "code",
   "execution_count": 8,
   "id": "8ca58aca-c3e7-41ea-941e-b30b4a4e14b9",
   "metadata": {
    "tags": []
   },
   "outputs": [],
   "source": [
    "# División de los datos en conjuntos de entrenamiento y prueba\n",
    "X_train, X_test, y_train, y_test = train_test_split(descripciones_stemmed, codigos_AIS_numericos, test_size=0.20, random_state=42)"
   ]
  },
  {
   "cell_type": "code",
   "execution_count": 9,
   "id": "1a3282ee-e614-456f-ab02-08795917ab44",
   "metadata": {
    "tags": []
   },
   "outputs": [
    {
     "name": "stdout",
     "output_type": "stream",
     "text": [
      "['term electr el-90 ele - term electr `` el tecnic le solucion el problem per sig con fall']\n"
     ]
    }
   ],
   "source": [
    "print(X_train[:1])"
   ]
  },
  {
   "cell_type": "code",
   "execution_count": 10,
   "id": "4c40731e-e52d-4fb7-a9be-cf8c12c9ef97",
   "metadata": {
    "tags": []
   },
   "outputs": [],
   "source": [
    "# Creación del pipeline para el clasificador basado en texto\n",
    "pipeline = Pipeline([\n",
    "    ('vect', CountVectorizer()),\n",
    "    ('tfidf', TfidfTransformer()),\n",
    "    ('clf', RandomForestClassifier())\n",
    "])"
   ]
  },
  {
   "cell_type": "code",
   "execution_count": null,
   "id": "b75e96ba-858a-4370-b767-0acd7b1b32de",
   "metadata": {
    "tags": []
   },
   "outputs": [],
   "source": [
    "# Entrenamiento del modelo\n",
    "pipeline.fit(X_train, y_train)"
   ]
  },
  {
   "cell_type": "code",
   "execution_count": null,
   "id": "81107323-0ea2-46ec-9202-3703432883c7",
   "metadata": {
    "tags": []
   },
   "outputs": [],
   "source": [
    "# Evaluación del modelo\n",
    "y_pred = pipeline.predict(X_test)"
   ]
  },
  {
   "cell_type": "code",
   "execution_count": null,
   "id": "494b009b-d3fe-430b-b708-697b7ea0ad2f",
   "metadata": {
    "tags": []
   },
   "outputs": [],
   "source": [
    "# Obtener las clases únicas de los datos de prueba y entrenamiento\n",
    "unique_classes = np.unique(np.concatenate((y_train, y_test)))"
   ]
  },
  {
   "cell_type": "code",
   "execution_count": null,
   "id": "528d4ce1-1174-4ca6-9863-8b9e563e9a60",
   "metadata": {
    "tags": []
   },
   "outputs": [],
   "source": [
    "# Crear un diccionario para mapear las etiquetas numéricas a los nombres de las clases originales\n",
    "class_names_dict = {class_num: class_name for class_num, class_name in zip(unique_classes, label_encoder.inverse_transform(unique_classes))}"
   ]
  },
  {
   "cell_type": "code",
   "execution_count": null,
   "id": "eb3243d5-c23d-4b43-b423-336d41ee42d8",
   "metadata": {
    "tags": []
   },
   "outputs": [],
   "source": [
    "# Imprimir el reporte de clasificación\n",
    "print(classification_report(y_test, y_pred, labels=unique_classes, target_names=class_names_dict.values(), zero_division=1))"
   ]
  },
  {
   "cell_type": "code",
   "execution_count": null,
   "id": "486cadda-9be7-4930-8a32-97527658ba7e",
   "metadata": {
    "tags": []
   },
   "outputs": [],
   "source": [
    "# Ejemplo de predicción para diagnósticos nuevos\n",
    "archivo_diagnosticos_csv = 'C:/Users/Josvaldes/Documents/Maestria/Austral/2ano/textMining/proyecto/TextMining/TextMining/testesco.xlsx'  # Cambia la ruta al archivo CSV\n",
    "df_diagnosticos = pd.read_excel(archivo_diagnosticos_csv)\n",
    "df_diagnosticos"
   ]
  },
  {
   "cell_type": "code",
   "execution_count": null,
   "id": "92d884a1-7e51-4d46-931e-c3387445b783",
   "metadata": {
    "tags": []
   },
   "outputs": [],
   "source": [
    "# Filtrar las clases que existen en el conjunto de entrenamiento\n",
    "clases_validas_prueba = label_encoder.classes_\n",
    "df_diagnosticos_filtrados = df_diagnosticos[df_diagnosticos['obsitem'].isin(clases_validas_prueba)]"
   ]
  },
  {
   "cell_type": "code",
   "execution_count": null,
   "id": "5149636a-c1ee-4fb1-a642-dcc14b2ca45f",
   "metadata": {
    "tags": []
   },
   "outputs": [],
   "source": [
    "df_diagnosticos_filtrados"
   ]
  },
  {
   "cell_type": "code",
   "execution_count": null,
   "id": "5f41119e-9b3e-43d4-ada8-45a11cb9d22b",
   "metadata": {
    "tags": []
   },
   "outputs": [],
   "source": [
    "# Codificar las clases en los datos de prueba usando el mismo LabelEncoder\n",
    "codigos_AIS_numericos_prueba = label_encoder.transform(df_diagnosticos_filtrados['obsitem'])"
   ]
  },
  {
   "cell_type": "code",
   "execution_count": null,
   "id": "cacf36eb-7429-43c5-93df-d99321284dee",
   "metadata": {
    "tags": []
   },
   "outputs": [],
   "source": [
    "resultados = []\n",
    "for diagnostico in df_diagnosticos_filtrados['obsitem']:\n",
    "    diagnostico_stemmed = stem_descripcion(diagnostico.strip())\n",
    "    predicciones = pipeline.predict([diagnostico_stemmed])\n",
    "    \n",
    "    clase_predicha = label_encoder.inverse_transform(predicciones)[0]\n",
    "    \n",
    "    resultados.append({\n",
    "        'Descripción': diagnostico.strip(),\n",
    "        'Código AIS predicho': clase_predicha\n",
    "    })"
   ]
  },
  {
   "cell_type": "code",
   "execution_count": null,
   "id": "6db91c8a-2c9b-4ff6-9ed1-5714834ef674",
   "metadata": {
    "tags": []
   },
   "outputs": [],
   "source": [
    "resultados_df = pd.DataFrame(resultados)\n",
    "\n",
    "resultados_csv = 'C:/Users/Josvaldes/Documents/Maestria/Austral/2ano/textMining/proyecto/TextMining/TextMining/testresultadoSVC2.csv'\n",
    "resultados_df.to_csv(resultados_csv, index=False, encoding='latin-1')\n",
    "\n",
    "print(\"Resultados guardados en:\", resultados_csv)"
   ]
  },
  {
   "cell_type": "code",
   "execution_count": null,
   "id": "77206e83-7466-4bb6-9364-8d47cdc62b0b",
   "metadata": {},
   "outputs": [],
   "source": []
  }
 ],
 "metadata": {
  "kernelspec": {
   "display_name": "Python 3 (ipykernel)",
   "language": "python",
   "name": "python3"
  },
  "language_info": {
   "codemirror_mode": {
    "name": "ipython",
    "version": 3
   },
   "file_extension": ".py",
   "mimetype": "text/x-python",
   "name": "python",
   "nbconvert_exporter": "python",
   "pygments_lexer": "ipython3",
   "version": "3.11.4"
  }
 },
 "nbformat": 4,
 "nbformat_minor": 5
}
