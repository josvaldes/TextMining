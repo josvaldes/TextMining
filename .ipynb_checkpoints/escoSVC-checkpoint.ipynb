{
 "cells": [
  {
   "cell_type": "code",
   "execution_count": 1,
   "id": "699c7021-1d7b-4a5b-a5e3-c82186df61ce",
   "metadata": {
    "tags": []
   },
   "outputs": [
    {
     "name": "stderr",
     "output_type": "stream",
     "text": [
      "[nltk_data] Downloading package stopwords to\n",
      "[nltk_data]     C:\\Users\\Josvaldes\\AppData\\Roaming\\nltk_data...\n",
      "[nltk_data]   Package stopwords is already up-to-date!\n",
      "[nltk_data] Downloading package punkt to\n",
      "[nltk_data]     C:\\Users\\Josvaldes\\AppData\\Roaming\\nltk_data...\n",
      "[nltk_data]   Package punkt is already up-to-date!\n"
     ]
    },
    {
     "data": {
      "text/plain": [
       "True"
      ]
     },
     "execution_count": 1,
     "metadata": {},
     "output_type": "execute_result"
    }
   ],
   "source": [
    "import pandas as pd\n",
    "from sklearn.feature_extraction.text import CountVectorizer, TfidfTransformer\n",
    "from sklearn.pipeline import Pipeline\n",
    "from sklearn.model_selection import train_test_split\n",
    "from sklearn.metrics import classification_report\n",
    "from sklearn.svm import SVC\n",
    "from sklearn.preprocessing import LabelEncoder\n",
    "import numpy as np\n",
    "import re\n",
    "import nltk\n",
    "from nltk.stem import SnowballStemmer\n",
    "from nltk.corpus import stopwords\n",
    "nltk.download('stopwords')\n",
    "nltk.download('punkt')"
   ]
  },
  {
   "cell_type": "code",
   "execution_count": 2,
   "id": "7bb726d9-022f-49ef-b060-ec0c8426df40",
   "metadata": {
    "tags": []
   },
   "outputs": [
    {
     "data": {
      "text/html": [
       "<div>\n",
       "<style scoped>\n",
       "    .dataframe tbody tr th:only-of-type {\n",
       "        vertical-align: middle;\n",
       "    }\n",
       "\n",
       "    .dataframe tbody tr th {\n",
       "        vertical-align: top;\n",
       "    }\n",
       "\n",
       "    .dataframe thead th {\n",
       "        text-align: right;\n",
       "    }\n",
       "</style>\n",
       "<table border=\"1\" class=\"dataframe\">\n",
       "  <thead>\n",
       "    <tr style=\"text-align: right;\">\n",
       "      <th></th>\n",
       "      <th>problema_id</th>\n",
       "      <th>descripcion</th>\n",
       "      <th>alias_8_nombre3</th>\n",
       "      <th>problema_n</th>\n",
       "      <th>obsitem</th>\n",
       "      <th>Concaobsitem</th>\n",
       "    </tr>\n",
       "  </thead>\n",
       "  <tbody>\n",
       "    <tr>\n",
       "      <th>0</th>\n",
       "      <td>70e03aaf-6cfb-42e8-92ae-fcb46ff479dd</td>\n",
       "      <td>COCINA PALACE CRISTAL BLACK LX S2 (GN) (U.)</td>\n",
       "      <td>GN - Gas Natural</td>\n",
       "      <td>B1 - PÃ©rdidas de gas con piezas daÃ±adas</td>\n",
       "      <td>HAY UNA PERILLA DE LAS HORNALLA QUE NO SE PUED...</td>\n",
       "      <td>COCINA PALACE CRISTAL BLACK LX S2 (GN) (U.) GN...</td>\n",
       "    </tr>\n",
       "    <tr>\n",
       "      <th>1</th>\n",
       "      <td>e5be47a0-c506-4a79-87e9-2a45f06d496c</td>\n",
       "      <td>COCINA PALACE CRISTAL BLACK LX S2 (GN) (U.)</td>\n",
       "      <td>GN - Gas Natural</td>\n",
       "      <td>G - Perilla no gira / gira mal</td>\n",
       "      <td>HAY UNA PERILLA DE LAS HORNALLA QUE NO SE PUED...</td>\n",
       "      <td>COCINA PALACE CRISTAL BLACK LX S2 (GN) (U.) GN...</td>\n",
       "    </tr>\n",
       "    <tr>\n",
       "      <th>2</th>\n",
       "      <td>2b2af341-20c5-4607-baa0-01972617647e</td>\n",
       "      <td>TERMO ELECTRICO EL-55</td>\n",
       "      <td>ELE - Termo elÃ©ctrico</td>\n",
       "      <td>D - No enciende</td>\n",
       "      <td>DESPUÃS DE QUE UNA PERSONA SE DUCHO NO VOLVIÃ...</td>\n",
       "      <td>TERMO ELECTRICO EL-55 ELE - Termo elÃ©ctrico \"...</td>\n",
       "    </tr>\n",
       "    <tr>\n",
       "      <th>3</th>\n",
       "      <td>ab0ed03a-8aab-4317-9aad-fcc06dd41520</td>\n",
       "      <td>COCINA PALACE CRISTAL BLACK LX S2 (GN) (U.)</td>\n",
       "      <td>GN - Gas Natural</td>\n",
       "      <td>D2 - Hornalla Mal funcionamiento</td>\n",
       "      <td>NaN</td>\n",
       "      <td>COCINA PALACE CRISTAL BLACK LX S2 (GN) (U.) GN...</td>\n",
       "    </tr>\n",
       "    <tr>\n",
       "      <th>4</th>\n",
       "      <td>ab0ed03a-8aab-4317-9aad-fcc06dd41520</td>\n",
       "      <td>COCINA PALACE CRISTAL BLACK LX S2 (GN) (U.)</td>\n",
       "      <td>GN - Gas Natural</td>\n",
       "      <td>D2 - Hornalla Mal funcionamiento</td>\n",
       "      <td>LAS HORNALLAS TARDAN MUCHÃSIMO TIEMPO EN PREN...</td>\n",
       "      <td>COCINA PALACE CRISTAL BLACK LX S2 (GN) (U.) GN...</td>\n",
       "    </tr>\n",
       "    <tr>\n",
       "      <th>...</th>\n",
       "      <td>...</td>\n",
       "      <td>...</td>\n",
       "      <td>...</td>\n",
       "      <td>...</td>\n",
       "      <td>...</td>\n",
       "      <td>...</td>\n",
       "    </tr>\n",
       "    <tr>\n",
       "      <th>18709</th>\n",
       "      <td>b3e96d44-2a08-4f8b-b63e-df346e84ecaa</td>\n",
       "      <td>COCINA PALACE CRISTAL LX S2 (GN) (U.)</td>\n",
       "      <td>GN - Gas Natural</td>\n",
       "      <td>K - Fallas en encendido electrÃ³nico</td>\n",
       "      <td>NaN</td>\n",
       "      <td>COCINA PALACE CRISTAL LX S2 (GN) (U.) GN - Gas...</td>\n",
       "    </tr>\n",
       "    <tr>\n",
       "      <th>18710</th>\n",
       "      <td>8c5fec8e-37bc-46ac-a031-717476ef2f6f</td>\n",
       "      <td>COCINA PALACE CRISTAL LX S2 (GN) (U.)</td>\n",
       "      <td>GN - Gas Natural</td>\n",
       "      <td>E - Puerta de horno - No cierra / Se cae</td>\n",
       "      <td>SE ROMPIÃ LA BISAGRA DE LA PUERTA DEL HORNO</td>\n",
       "      <td>COCINA PALACE CRISTAL LX S2 (GN) (U.) GN - Gas...</td>\n",
       "    </tr>\n",
       "    <tr>\n",
       "      <th>18711</th>\n",
       "      <td>553f6bde-32ee-4099-a99a-15a4ff7729f4</td>\n",
       "      <td>COCINA PALACE CRISTAL LX S2 (GL) (U.)</td>\n",
       "      <td>GE - Gas Envasado</td>\n",
       "      <td>C2 - Horno Mal funcionamiento</td>\n",
       "      <td>NaN</td>\n",
       "      <td>COCINA PALACE CRISTAL LX S2 (GL) (U.) GE - Gas...</td>\n",
       "    </tr>\n",
       "    <tr>\n",
       "      <th>18712</th>\n",
       "      <td>5e810261-6a73-470d-b900-5018f9f83927</td>\n",
       "      <td>COCINA PALACE CRISTAL LX S2 (GL) (U.)</td>\n",
       "      <td>GE - Gas Envasado</td>\n",
       "      <td>D3 - Hornalla Se Apaga</td>\n",
       "      <td>- PROBLEMAS CON EL HORNO.\\n \\n - EL HORNO PERM...</td>\n",
       "      <td>COCINA PALACE CRISTAL LX S2 (GL) (U.) GE - Gas...</td>\n",
       "    </tr>\n",
       "    <tr>\n",
       "      <th>18713</th>\n",
       "      <td>c5952495-6ee0-4566-8853-bfcdb75bf88d</td>\n",
       "      <td>TERMO 120 L GN (U.)</td>\n",
       "      <td>GAS - Termo a gas</td>\n",
       "      <td>E - Piloto se apaga</td>\n",
       "      <td>EL TERMOTANQUE SE APAGA</td>\n",
       "      <td>TERMO 120 L GN (U.) GAS - Termo a gas \" EL TER...</td>\n",
       "    </tr>\n",
       "  </tbody>\n",
       "</table>\n",
       "<p>18714 rows × 6 columns</p>\n",
       "</div>"
      ],
      "text/plain": [
       "                                problema_id   \n",
       "0      70e03aaf-6cfb-42e8-92ae-fcb46ff479dd  \\\n",
       "1      e5be47a0-c506-4a79-87e9-2a45f06d496c   \n",
       "2      2b2af341-20c5-4607-baa0-01972617647e   \n",
       "3      ab0ed03a-8aab-4317-9aad-fcc06dd41520   \n",
       "4      ab0ed03a-8aab-4317-9aad-fcc06dd41520   \n",
       "...                                     ...   \n",
       "18709  b3e96d44-2a08-4f8b-b63e-df346e84ecaa   \n",
       "18710  8c5fec8e-37bc-46ac-a031-717476ef2f6f   \n",
       "18711  553f6bde-32ee-4099-a99a-15a4ff7729f4   \n",
       "18712  5e810261-6a73-470d-b900-5018f9f83927   \n",
       "18713  c5952495-6ee0-4566-8853-bfcdb75bf88d   \n",
       "\n",
       "                                       descripcion         alias_8_nombre3   \n",
       "0      COCINA PALACE CRISTAL BLACK LX S2 (GN) (U.)        GN - Gas Natural  \\\n",
       "1      COCINA PALACE CRISTAL BLACK LX S2 (GN) (U.)        GN - Gas Natural   \n",
       "2                            TERMO ELECTRICO EL-55  ELE - Termo elÃ©ctrico   \n",
       "3      COCINA PALACE CRISTAL BLACK LX S2 (GN) (U.)        GN - Gas Natural   \n",
       "4      COCINA PALACE CRISTAL BLACK LX S2 (GN) (U.)        GN - Gas Natural   \n",
       "...                                            ...                     ...   \n",
       "18709        COCINA PALACE CRISTAL LX S2 (GN) (U.)        GN - Gas Natural   \n",
       "18710        COCINA PALACE CRISTAL LX S2 (GN) (U.)        GN - Gas Natural   \n",
       "18711        COCINA PALACE CRISTAL LX S2 (GL) (U.)       GE - Gas Envasado   \n",
       "18712        COCINA PALACE CRISTAL LX S2 (GL) (U.)       GE - Gas Envasado   \n",
       "18713                          TERMO 120 L GN (U.)       GAS - Termo a gas   \n",
       "\n",
       "                                      problema_n   \n",
       "0      B1 - PÃ©rdidas de gas con piezas daÃ±adas  \\\n",
       "1                 G - Perilla no gira / gira mal   \n",
       "2                                D - No enciende   \n",
       "3               D2 - Hornalla Mal funcionamiento   \n",
       "4               D2 - Hornalla Mal funcionamiento   \n",
       "...                                          ...   \n",
       "18709       K - Fallas en encendido electrÃ³nico   \n",
       "18710   E - Puerta de horno - No cierra / Se cae   \n",
       "18711              C2 - Horno Mal funcionamiento   \n",
       "18712                     D3 - Hornalla Se Apaga   \n",
       "18713                        E - Piloto se apaga   \n",
       "\n",
       "                                                 obsitem   \n",
       "0      HAY UNA PERILLA DE LAS HORNALLA QUE NO SE PUED...  \\\n",
       "1      HAY UNA PERILLA DE LAS HORNALLA QUE NO SE PUED...   \n",
       "2      DESPUÃS DE QUE UNA PERSONA SE DUCHO NO VOLVIÃ...   \n",
       "3                                                    NaN   \n",
       "4      LAS HORNALLAS TARDAN MUCHÃSIMO TIEMPO EN PREN...   \n",
       "...                                                  ...   \n",
       "18709                                                NaN   \n",
       "18710       SE ROMPIÃ LA BISAGRA DE LA PUERTA DEL HORNO   \n",
       "18711                                                NaN   \n",
       "18712  - PROBLEMAS CON EL HORNO.\\n \\n - EL HORNO PERM...   \n",
       "18713                            EL TERMOTANQUE SE APAGA   \n",
       "\n",
       "                                            Concaobsitem  \n",
       "0      COCINA PALACE CRISTAL BLACK LX S2 (GN) (U.) GN...  \n",
       "1      COCINA PALACE CRISTAL BLACK LX S2 (GN) (U.) GN...  \n",
       "2      TERMO ELECTRICO EL-55 ELE - Termo elÃ©ctrico \"...  \n",
       "3      COCINA PALACE CRISTAL BLACK LX S2 (GN) (U.) GN...  \n",
       "4      COCINA PALACE CRISTAL BLACK LX S2 (GN) (U.) GN...  \n",
       "...                                                  ...  \n",
       "18709  COCINA PALACE CRISTAL LX S2 (GN) (U.) GN - Gas...  \n",
       "18710  COCINA PALACE CRISTAL LX S2 (GN) (U.) GN - Gas...  \n",
       "18711  COCINA PALACE CRISTAL LX S2 (GL) (U.) GE - Gas...  \n",
       "18712  COCINA PALACE CRISTAL LX S2 (GL) (U.) GE - Gas...  \n",
       "18713  TERMO 120 L GN (U.) GAS - Termo a gas \" EL TER...  \n",
       "\n",
       "[18714 rows x 6 columns]"
      ]
     },
     "execution_count": 2,
     "metadata": {},
     "output_type": "execute_result"
    }
   ],
   "source": [
    "# Leer el archivo CSV\n",
    "df = pd.read_csv('C:/Users/Josvaldes/Documents/Maestria/Austral/2ano/textMining/proyecto/TextMining/TextMining/RECLAMOS 3.csv', encoding='latin-1')\n",
    "df"
   ]
  },
  {
   "cell_type": "code",
   "execution_count": 3,
   "id": "f35d5657-30f0-44d6-a472-ec7c9f7fc463",
   "metadata": {
    "tags": []
   },
   "outputs": [],
   "source": [
    "# Obtener las columnas de diagnósticos y códigos AIS\n",
    "Oitems = df['Concaobsitem'].tolist()\n",
    "ids = df['problema_id'].tolist()"
   ]
  },
  {
   "cell_type": "code",
   "execution_count": 4,
   "id": "aadb9bfe-4137-4d84-b35b-8e17e79d520e",
   "metadata": {
    "tags": []
   },
   "outputs": [],
   "source": [
    "#Se almacenan los elementos de Oitems como cadenas de caracteres en descripciones\n",
    "descripciones = [str(desc) for desc in Oitems]"
   ]
  },
  {
   "cell_type": "code",
   "execution_count": 5,
   "id": "d9f0c48c-34ef-4188-8ae5-87d2569000f1",
   "metadata": {
    "tags": []
   },
   "outputs": [],
   "source": [
    "# Codificar los códigos AIS como etiquetas numéricas\n",
    "label_encoder = LabelEncoder()\n",
    "codigos_AIS_numericos = label_encoder.fit_transform(ids)"
   ]
  },
  {
   "cell_type": "code",
   "execution_count": 6,
   "id": "07ab0ef0-f672-45a3-a28c-228fec35e782",
   "metadata": {
    "tags": []
   },
   "outputs": [],
   "source": [
    "# Función para realizar stemming en una descripción\n",
    "stemmer = SnowballStemmer('spanish')\n",
    "def stem_descripcion(descripcion):\n",
    "    words = nltk.word_tokenize(descripcion)\n",
    "    words = [stemmer.stem(word) for word in words if word not in stopwords.words('spanish')]\n",
    "    return ' '.join(words)"
   ]
  },
  {
   "cell_type": "code",
   "execution_count": 7,
   "id": "82cd3843-369d-450f-a270-e5b51b820a83",
   "metadata": {
    "tags": []
   },
   "outputs": [],
   "source": [
    "# Aplicar stemming a las descripciones\n",
    "descripciones_stemmed = [stem_descripcion(desc) for desc in descripciones]"
   ]
  },
  {
   "cell_type": "code",
   "execution_count": 11,
   "id": "8ca58aca-c3e7-41ea-941e-b30b4a4e14b9",
   "metadata": {
    "tags": []
   },
   "outputs": [],
   "source": [
    "# División de los datos en conjuntos de entrenamiento y prueba\n",
    "X_train, X_test, y_train, y_test = train_test_split(descripciones_stemmed, codigos_AIS_numericos, test_size=0.20, random_state=42)"
   ]
  },
  {
   "cell_type": "code",
   "execution_count": 13,
   "id": "4c40731e-e52d-4fb7-a9be-cf8c12c9ef97",
   "metadata": {
    "tags": []
   },
   "outputs": [],
   "source": [
    "# Creación del pipeline para el clasificador basado en texto\n",
    "pipeline = Pipeline([\n",
    "    ('vect', CountVectorizer()),\n",
    "    ('tfidf', TfidfTransformer()),\n",
    "    ('clf', SVC())\n",
    "])"
   ]
  },
  {
   "cell_type": "code",
   "execution_count": 14,
   "id": "b75e96ba-858a-4370-b767-0acd7b1b32de",
   "metadata": {
    "tags": []
   },
   "outputs": [
    {
     "data": {
      "text/html": [
       "<style>#sk-container-id-1 {color: black;}#sk-container-id-1 pre{padding: 0;}#sk-container-id-1 div.sk-toggleable {background-color: white;}#sk-container-id-1 label.sk-toggleable__label {cursor: pointer;display: block;width: 100%;margin-bottom: 0;padding: 0.3em;box-sizing: border-box;text-align: center;}#sk-container-id-1 label.sk-toggleable__label-arrow:before {content: \"▸\";float: left;margin-right: 0.25em;color: #696969;}#sk-container-id-1 label.sk-toggleable__label-arrow:hover:before {color: black;}#sk-container-id-1 div.sk-estimator:hover label.sk-toggleable__label-arrow:before {color: black;}#sk-container-id-1 div.sk-toggleable__content {max-height: 0;max-width: 0;overflow: hidden;text-align: left;background-color: #f0f8ff;}#sk-container-id-1 div.sk-toggleable__content pre {margin: 0.2em;color: black;border-radius: 0.25em;background-color: #f0f8ff;}#sk-container-id-1 input.sk-toggleable__control:checked~div.sk-toggleable__content {max-height: 200px;max-width: 100%;overflow: auto;}#sk-container-id-1 input.sk-toggleable__control:checked~label.sk-toggleable__label-arrow:before {content: \"▾\";}#sk-container-id-1 div.sk-estimator input.sk-toggleable__control:checked~label.sk-toggleable__label {background-color: #d4ebff;}#sk-container-id-1 div.sk-label input.sk-toggleable__control:checked~label.sk-toggleable__label {background-color: #d4ebff;}#sk-container-id-1 input.sk-hidden--visually {border: 0;clip: rect(1px 1px 1px 1px);clip: rect(1px, 1px, 1px, 1px);height: 1px;margin: -1px;overflow: hidden;padding: 0;position: absolute;width: 1px;}#sk-container-id-1 div.sk-estimator {font-family: monospace;background-color: #f0f8ff;border: 1px dotted black;border-radius: 0.25em;box-sizing: border-box;margin-bottom: 0.5em;}#sk-container-id-1 div.sk-estimator:hover {background-color: #d4ebff;}#sk-container-id-1 div.sk-parallel-item::after {content: \"\";width: 100%;border-bottom: 1px solid gray;flex-grow: 1;}#sk-container-id-1 div.sk-label:hover label.sk-toggleable__label {background-color: #d4ebff;}#sk-container-id-1 div.sk-serial::before {content: \"\";position: absolute;border-left: 1px solid gray;box-sizing: border-box;top: 0;bottom: 0;left: 50%;z-index: 0;}#sk-container-id-1 div.sk-serial {display: flex;flex-direction: column;align-items: center;background-color: white;padding-right: 0.2em;padding-left: 0.2em;position: relative;}#sk-container-id-1 div.sk-item {position: relative;z-index: 1;}#sk-container-id-1 div.sk-parallel {display: flex;align-items: stretch;justify-content: center;background-color: white;position: relative;}#sk-container-id-1 div.sk-item::before, #sk-container-id-1 div.sk-parallel-item::before {content: \"\";position: absolute;border-left: 1px solid gray;box-sizing: border-box;top: 0;bottom: 0;left: 50%;z-index: -1;}#sk-container-id-1 div.sk-parallel-item {display: flex;flex-direction: column;z-index: 1;position: relative;background-color: white;}#sk-container-id-1 div.sk-parallel-item:first-child::after {align-self: flex-end;width: 50%;}#sk-container-id-1 div.sk-parallel-item:last-child::after {align-self: flex-start;width: 50%;}#sk-container-id-1 div.sk-parallel-item:only-child::after {width: 0;}#sk-container-id-1 div.sk-dashed-wrapped {border: 1px dashed gray;margin: 0 0.4em 0.5em 0.4em;box-sizing: border-box;padding-bottom: 0.4em;background-color: white;}#sk-container-id-1 div.sk-label label {font-family: monospace;font-weight: bold;display: inline-block;line-height: 1.2em;}#sk-container-id-1 div.sk-label-container {text-align: center;}#sk-container-id-1 div.sk-container {/* jupyter's `normalize.less` sets `[hidden] { display: none; }` but bootstrap.min.css set `[hidden] { display: none !important; }` so we also need the `!important` here to be able to override the default hidden behavior on the sphinx rendered scikit-learn.org. See: https://github.com/scikit-learn/scikit-learn/issues/21755 */display: inline-block !important;position: relative;}#sk-container-id-1 div.sk-text-repr-fallback {display: none;}</style><div id=\"sk-container-id-1\" class=\"sk-top-container\"><div class=\"sk-text-repr-fallback\"><pre>Pipeline(steps=[(&#x27;vect&#x27;, CountVectorizer()), (&#x27;tfidf&#x27;, TfidfTransformer()),\n",
       "                (&#x27;clf&#x27;, SVC())])</pre><b>In a Jupyter environment, please rerun this cell to show the HTML representation or trust the notebook. <br />On GitHub, the HTML representation is unable to render, please try loading this page with nbviewer.org.</b></div><div class=\"sk-container\" hidden><div class=\"sk-item sk-dashed-wrapped\"><div class=\"sk-label-container\"><div class=\"sk-label sk-toggleable\"><input class=\"sk-toggleable__control sk-hidden--visually\" id=\"sk-estimator-id-1\" type=\"checkbox\" ><label for=\"sk-estimator-id-1\" class=\"sk-toggleable__label sk-toggleable__label-arrow\">Pipeline</label><div class=\"sk-toggleable__content\"><pre>Pipeline(steps=[(&#x27;vect&#x27;, CountVectorizer()), (&#x27;tfidf&#x27;, TfidfTransformer()),\n",
       "                (&#x27;clf&#x27;, SVC())])</pre></div></div></div><div class=\"sk-serial\"><div class=\"sk-item\"><div class=\"sk-estimator sk-toggleable\"><input class=\"sk-toggleable__control sk-hidden--visually\" id=\"sk-estimator-id-2\" type=\"checkbox\" ><label for=\"sk-estimator-id-2\" class=\"sk-toggleable__label sk-toggleable__label-arrow\">CountVectorizer</label><div class=\"sk-toggleable__content\"><pre>CountVectorizer()</pre></div></div></div><div class=\"sk-item\"><div class=\"sk-estimator sk-toggleable\"><input class=\"sk-toggleable__control sk-hidden--visually\" id=\"sk-estimator-id-3\" type=\"checkbox\" ><label for=\"sk-estimator-id-3\" class=\"sk-toggleable__label sk-toggleable__label-arrow\">TfidfTransformer</label><div class=\"sk-toggleable__content\"><pre>TfidfTransformer()</pre></div></div></div><div class=\"sk-item\"><div class=\"sk-estimator sk-toggleable\"><input class=\"sk-toggleable__control sk-hidden--visually\" id=\"sk-estimator-id-4\" type=\"checkbox\" ><label for=\"sk-estimator-id-4\" class=\"sk-toggleable__label sk-toggleable__label-arrow\">SVC</label><div class=\"sk-toggleable__content\"><pre>SVC()</pre></div></div></div></div></div></div></div>"
      ],
      "text/plain": [
       "Pipeline(steps=[('vect', CountVectorizer()), ('tfidf', TfidfTransformer()),\n",
       "                ('clf', SVC())])"
      ]
     },
     "execution_count": 14,
     "metadata": {},
     "output_type": "execute_result"
    }
   ],
   "source": [
    "# Entrenamiento del modelo\n",
    "pipeline.fit(X_train, y_train)"
   ]
  },
  {
   "cell_type": "code",
   "execution_count": 15,
   "id": "81107323-0ea2-46ec-9202-3703432883c7",
   "metadata": {
    "tags": []
   },
   "outputs": [],
   "source": [
    "# Evaluación del modelo\n",
    "y_pred = pipeline.predict(X_test)"
   ]
  },
  {
   "cell_type": "code",
   "execution_count": 16,
   "id": "494b009b-d3fe-430b-b708-697b7ea0ad2f",
   "metadata": {
    "tags": []
   },
   "outputs": [],
   "source": [
    "# Obtener las clases únicas de los datos de prueba y entrenamiento\n",
    "unique_classes = np.unique(np.concatenate((y_train, y_test)))"
   ]
  },
  {
   "cell_type": "code",
   "execution_count": 18,
   "id": "528d4ce1-1174-4ca6-9863-8b9e563e9a60",
   "metadata": {
    "tags": []
   },
   "outputs": [],
   "source": [
    "# Crear un diccionario para mapear las etiquetas numéricas a los nombres de las clases originales\n",
    "class_names_dict = {class_num: class_name for class_num, class_name in zip(unique_classes, label_encoder.inverse_transform(unique_classes))}"
   ]
  },
  {
   "cell_type": "code",
   "execution_count": 20,
   "id": "eb3243d5-c23d-4b43-b423-336d41ee42d8",
   "metadata": {
    "tags": []
   },
   "outputs": [
    {
     "name": "stdout",
     "output_type": "stream",
     "text": [
      "                                      precision    recall  f1-score   support\n",
      "\n",
      "010039bc-872f-4b8e-ad2b-e4830c237d7c       1.00      1.00      1.00         0\n",
      "0329f614-7eaf-4230-b10a-6a11127a1ad6       0.62      0.50      0.55        62\n",
      "0713deef-4b21-477e-93e9-bbbfb3c1b1c4       0.31      0.12      0.18        32\n",
      "0cd1f078-43a6-49fb-9f80-7f7ccc21d6cc       1.00      1.00      1.00         0\n",
      "10556afc-29eb-4fd6-a1ba-f3a0a71951cc       1.00      0.00      0.00         5\n",
      "1ed1a93d-335b-4adb-a565-5929499e8613       1.00      1.00      1.00         0\n",
      "208f4777-71e7-4897-b746-71e33d105bcf       0.50      0.05      0.09        20\n",
      "2124dc54-4681-425d-bcc3-ea7515431b04       1.00      0.00      0.00         6\n",
      "224e6519-738b-4fe2-8422-50f2a4df9aeb       1.00      0.00      0.00        22\n",
      "2629c989-ccbb-474e-aa20-660d681189ad       0.20      0.02      0.04        46\n",
      "29ce3db5-f678-4f14-b86e-90c8265daad5       0.62      0.63      0.62       153\n",
      "2a66c951-c449-4774-b77a-56e026f7598a       1.00      0.18      0.31        44\n",
      "2b2af341-20c5-4607-baa0-01972617647e       0.56      0.38      0.45       245\n",
      "2d04c68a-bbb7-4ef9-b293-49bd5c81455d       1.00      0.00      0.00         9\n",
      "3437c242-7a23-402c-95e2-f3c543a96895       1.00      0.00      0.00         2\n",
      "38630e44-9720-4b5b-9c5a-c92f9c626a32       1.00      0.00      0.00         3\n",
      "4ab62879-fa8e-4609-8b99-ac8dbeea466c       1.00      1.00      1.00         0\n",
      "4ceb191b-ed98-4ee2-ac19-f90ef28ad6ef       1.00      0.00      0.00         2\n",
      "5003a57e-5c28-4de0-a73c-9d6abd4f4fbd       1.00      1.00      1.00         0\n",
      "553f6bde-32ee-4099-a99a-15a4ff7729f4       0.49      0.27      0.35       171\n",
      "5e810261-6a73-470d-b900-5018f9f83927       0.56      0.44      0.49       193\n",
      "659cc2e2-1189-44b0-b46c-f1b7008d7098       1.00      0.00      0.00         1\n",
      "7094cb00-a60c-4963-88b5-ab4335f9c0ee       0.50      0.22      0.31         9\n",
      "70e03aaf-6cfb-42e8-92ae-fcb46ff479dd       0.37      0.10      0.16        71\n",
      "729348c8-b3a4-4a98-99c5-7a18b6feb567       1.00      0.00      0.00         3\n",
      "73524652-4545-4e89-9d70-62bb1e57d0ba       0.64      0.87      0.74       434\n",
      "814b0725-8a25-4e68-98ef-988833d45b7d       1.00      0.00      0.00         3\n",
      "8baad73a-65d0-4af7-a5f7-8a6dc7d009d3       1.00      0.00      0.00         1\n",
      "8c5fec8e-37bc-46ac-a031-717476ef2f6f       0.84      0.87      0.85       498\n",
      "8c65438f-2be3-4a6c-bb81-e482e82ae5bd       0.76      0.91      0.83        43\n",
      "8f99e0c7-f59d-43c6-841a-13deb347defe       0.79      0.93      0.86       232\n",
      "97606899-2130-449c-9a78-9942c319ff06       1.00      0.14      0.25         7\n",
      "9de45027-f765-4140-8ba7-4e47662aec29       1.00      1.00      1.00         0\n",
      "9e7e8c50-eaa8-477d-93c7-551fbf836539       0.27      0.11      0.15        37\n",
      "a14b0ffa-4e60-4bf0-b959-27879d0cf1ac       0.00      0.00      1.00        19\n",
      "ab0ed03a-8aab-4317-9aad-fcc06dd41520       0.31      0.69      0.43       335\n",
      "ac71b309-7a93-48b7-8b02-45f6870c9c7a       0.59      0.28      0.38        81\n",
      "b3e96d44-2a08-4f8b-b63e-df346e84ecaa       0.42      0.28      0.34        50\n",
      "c4742f84-be14-4266-ae83-4ecbe819233f       1.00      0.00      0.00        12\n",
      "c5952495-6ee0-4566-8853-bfcdb75bf88d       0.71      0.84      0.77       230\n",
      "c6d964f2-6225-4113-9aad-4c03c8807c06       0.33      0.14      0.20         7\n",
      "dc0ba40e-45d6-40c0-8e20-c86d37a2b775       0.89      0.62      0.74        40\n",
      "dd11bdbe-03f1-4faf-b897-152c974a0e4c       0.50      0.20      0.28        71\n",
      "ddb9646d-f56f-4835-8964-655660559dd5       0.25      0.05      0.08        42\n",
      "e5be47a0-c506-4a79-87e9-2a45f06d496c       0.60      0.45      0.52       110\n",
      "e9461b5e-54c1-42a1-bad5-d2b1b458ccd7       0.86      0.73      0.79       147\n",
      "e9577cd4-a7be-48fb-8451-d44e689e61ea       0.68      0.73      0.70       220\n",
      "f03e74a3-dd5b-4a00-b59f-76253c215364       0.69      0.82      0.75        11\n",
      "f11dac4a-cb0b-492b-8532-198f99314700       1.00      0.25      0.40         4\n",
      "f2df4cc4-03b5-42f7-8f05-96d22c6f1706       0.00      0.00      1.00         7\n",
      "ffafcb40-2e09-4b08-8dac-9e16b017c783       1.00      0.00      0.00         3\n",
      "\n",
      "                           micro avg       0.61      0.61      0.61      3743\n",
      "                           macro avg       0.72      0.37      0.42      3743\n",
      "                        weighted avg       0.63      0.61      0.59      3743\n",
      "\n"
     ]
    }
   ],
   "source": [
    "# Imprimir el reporte de clasificación\n",
    "print(classification_report(y_test, y_pred, labels=unique_classes, target_names=class_names_dict.values(), zero_division=1))"
   ]
  },
  {
   "cell_type": "code",
   "execution_count": 25,
   "id": "486cadda-9be7-4930-8a32-97527658ba7e",
   "metadata": {
    "tags": []
   },
   "outputs": [
    {
     "data": {
      "text/html": [
       "<div>\n",
       "<style scoped>\n",
       "    .dataframe tbody tr th:only-of-type {\n",
       "        vertical-align: middle;\n",
       "    }\n",
       "\n",
       "    .dataframe tbody tr th {\n",
       "        vertical-align: top;\n",
       "    }\n",
       "\n",
       "    .dataframe thead th {\n",
       "        text-align: right;\n",
       "    }\n",
       "</style>\n",
       "<table border=\"1\" class=\"dataframe\">\n",
       "  <thead>\n",
       "    <tr style=\"text-align: right;\">\n",
       "      <th></th>\n",
       "      <th>obsitem</th>\n",
       "    </tr>\n",
       "  </thead>\n",
       "  <tbody>\n",
       "    <tr>\n",
       "      <th>0</th>\n",
       "      <td>ELE - Termo eléctrico 3150 - Cañerías/Otros ar...</td>\n",
       "    </tr>\n",
       "    <tr>\n",
       "      <th>1</th>\n",
       "      <td>GE - Gas Envasado C2 - Horno Mal funcionamient...</td>\n",
       "    </tr>\n",
       "    <tr>\n",
       "      <th>2</th>\n",
       "      <td>GN - Gas Natural 1010 - Instalación no realiza...</td>\n",
       "    </tr>\n",
       "    <tr>\n",
       "      <th>3</th>\n",
       "      <td>MG - Multi Gas D6 - Otra Hornalla Se Apaga</td>\n",
       "    </tr>\n",
       "    <tr>\n",
       "      <th>4</th>\n",
       "      <td>GAS - Termo a gas 2040 - Tiraje incorrecto cte...</td>\n",
       "    </tr>\n",
       "    <tr>\n",
       "      <th>5</th>\n",
       "      <td>ELE - Termo eléctrico E - El agua sale con tem...</td>\n",
       "    </tr>\n",
       "  </tbody>\n",
       "</table>\n",
       "</div>"
      ],
      "text/plain": [
       "                                             obsitem\n",
       "0  ELE - Termo eléctrico 3150 - Cañerías/Otros ar...\n",
       "1  GE - Gas Envasado C2 - Horno Mal funcionamient...\n",
       "2  GN - Gas Natural 1010 - Instalación no realiza...\n",
       "3        MG - Multi Gas D6 - Otra Hornalla Se Apaga \n",
       "4  GAS - Termo a gas 2040 - Tiraje incorrecto cte...\n",
       "5  ELE - Termo eléctrico E - El agua sale con tem..."
      ]
     },
     "execution_count": 25,
     "metadata": {},
     "output_type": "execute_result"
    }
   ],
   "source": [
    "# Ejemplo de predicción para diagnósticos nuevos\n",
    "archivo_diagnosticos_csv = 'C:/Users/Josvaldes/Documents/Maestria/Austral/2ano/textMining/proyecto/TextMining/TextMining/testesco.xlsx'  # Cambia la ruta al archivo CSV\n",
    "df_diagnosticos = pd.read_excel(archivo_diagnosticos_csv)\n",
    "df_diagnosticos"
   ]
  },
  {
   "cell_type": "code",
   "execution_count": 23,
   "id": "92d884a1-7e51-4d46-931e-c3387445b783",
   "metadata": {
    "tags": []
   },
   "outputs": [],
   "source": [
    "# Filtrar las clases que existen en el conjunto de entrenamiento\n",
    "clases_validas_prueba = label_encoder.classes_\n",
    "df_diagnosticos_filtrados = df_diagnosticos[df_diagnosticos['obsitem'].isin(clases_validas_prueba)]"
   ]
  },
  {
   "cell_type": "code",
   "execution_count": 24,
   "id": "5149636a-c1ee-4fb1-a642-dcc14b2ca45f",
   "metadata": {
    "tags": []
   },
   "outputs": [
    {
     "data": {
      "text/html": [
       "<div>\n",
       "<style scoped>\n",
       "    .dataframe tbody tr th:only-of-type {\n",
       "        vertical-align: middle;\n",
       "    }\n",
       "\n",
       "    .dataframe tbody tr th {\n",
       "        vertical-align: top;\n",
       "    }\n",
       "\n",
       "    .dataframe thead th {\n",
       "        text-align: right;\n",
       "    }\n",
       "</style>\n",
       "<table border=\"1\" class=\"dataframe\">\n",
       "  <thead>\n",
       "    <tr style=\"text-align: right;\">\n",
       "      <th></th>\n",
       "      <th>obsitem</th>\n",
       "    </tr>\n",
       "  </thead>\n",
       "  <tbody>\n",
       "  </tbody>\n",
       "</table>\n",
       "</div>"
      ],
      "text/plain": [
       "Empty DataFrame\n",
       "Columns: [obsitem]\n",
       "Index: []"
      ]
     },
     "execution_count": 24,
     "metadata": {},
     "output_type": "execute_result"
    }
   ],
   "source": [
    "df_diagnosticos_filtrados"
   ]
  },
  {
   "cell_type": "code",
   "execution_count": 26,
   "id": "5f41119e-9b3e-43d4-ada8-45a11cb9d22b",
   "metadata": {
    "tags": []
   },
   "outputs": [],
   "source": [
    "# Codificar las clases en los datos de prueba usando el mismo LabelEncoder\n",
    "codigos_AIS_numericos_prueba = label_encoder.transform(df_diagnosticos_filtrados['obsitem'])"
   ]
  },
  {
   "cell_type": "code",
   "execution_count": 28,
   "id": "cacf36eb-7429-43c5-93df-d99321284dee",
   "metadata": {
    "tags": []
   },
   "outputs": [],
   "source": [
    "resultados = []\n",
    "for diagnostico in df_diagnosticos_filtrados['obsitem']:\n",
    "    diagnostico_stemmed = stem_descripcion(diagnostico.strip())\n",
    "    predicciones = pipeline.predict([diagnostico_stemmed])\n",
    "    \n",
    "    clase_predicha = label_encoder.inverse_transform(predicciones)[0]\n",
    "    \n",
    "    resultados.append({\n",
    "        'Descripción': diagnostico.strip(),\n",
    "        'Código AIS predicho': clase_predicha\n",
    "    })"
   ]
  },
  {
   "cell_type": "code",
   "execution_count": 29,
   "id": "6db91c8a-2c9b-4ff6-9ed1-5714834ef674",
   "metadata": {
    "tags": []
   },
   "outputs": [
    {
     "name": "stdout",
     "output_type": "stream",
     "text": [
      "Resultados guardados en: C:/Users/Josvaldes/Documents/Maestria/Austral/2ano/textMining/proyecto/TextMining/TextMining/testresultadoSVC2.csv\n"
     ]
    }
   ],
   "source": [
    "resultados_df = pd.DataFrame(resultados)\n",
    "\n",
    "resultados_csv = 'C:/Users/Josvaldes/Documents/Maestria/Austral/2ano/textMining/proyecto/TextMining/TextMining/testresultadoSVC2.csv'\n",
    "resultados_df.to_csv(resultados_csv, index=False, encoding='latin-1')\n",
    "\n",
    "print(\"Resultados guardados en:\", resultados_csv)"
   ]
  },
  {
   "cell_type": "code",
   "execution_count": null,
   "id": "77206e83-7466-4bb6-9364-8d47cdc62b0b",
   "metadata": {},
   "outputs": [],
   "source": []
  }
 ],
 "metadata": {
  "kernelspec": {
   "display_name": "Python 3 (ipykernel)",
   "language": "python",
   "name": "python3"
  },
  "language_info": {
   "codemirror_mode": {
    "name": "ipython",
    "version": 3
   },
   "file_extension": ".py",
   "mimetype": "text/x-python",
   "name": "python",
   "nbconvert_exporter": "python",
   "pygments_lexer": "ipython3",
   "version": "3.11.4"
  }
 },
 "nbformat": 4,
 "nbformat_minor": 5
}
