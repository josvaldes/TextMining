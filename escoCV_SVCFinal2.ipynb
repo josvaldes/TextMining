{
 "cells": [
  {
   "cell_type": "code",
   "execution_count": 71,
   "id": "d37ed317-3b64-4597-8f5e-5e85680f7c6e",
   "metadata": {
    "tags": []
   },
   "outputs": [
    {
     "name": "stderr",
     "output_type": "stream",
     "text": [
      "[nltk_data] Downloading package stopwords to\n",
      "[nltk_data]     C:\\Users\\Josvaldes\\AppData\\Roaming\\nltk_data...\n",
      "[nltk_data]   Package stopwords is already up-to-date!\n",
      "[nltk_data] Downloading package punkt to\n",
      "[nltk_data]     C:\\Users\\Josvaldes\\AppData\\Roaming\\nltk_data...\n",
      "[nltk_data]   Package punkt is already up-to-date!\n"
     ]
    },
    {
     "data": {
      "text/plain": [
       "True"
      ]
     },
     "execution_count": 71,
     "metadata": {},
     "output_type": "execute_result"
    }
   ],
   "source": [
    "import numpy as np\n",
    "import pandas as pd\n",
    "from sklearn.feature_extraction.text import TfidfVectorizer\n",
    "from sklearn.model_selection import cross_val_score, train_test_split\n",
    "from sklearn.pipeline import Pipeline\n",
    "from sklearn.svm import SVC\n",
    "from sklearn.preprocessing import LabelEncoder\n",
    "import nltk\n",
    "from nltk.corpus import stopwords\n",
    "from nltk.stem import SnowballStemmer\n",
    "from sklearn.metrics import classification_report\n",
    "\n",
    "nltk.download('stopwords')\n",
    "nltk.download('punkt')"
   ]
  },
  {
   "cell_type": "code",
   "execution_count": 72,
   "id": "184dcc38-27e6-4f81-9fe6-ad5701958c22",
   "metadata": {
    "tags": []
   },
   "outputs": [
    {
     "data": {
      "text/html": [
       "<div>\n",
       "<style scoped>\n",
       "    .dataframe tbody tr th:only-of-type {\n",
       "        vertical-align: middle;\n",
       "    }\n",
       "\n",
       "    .dataframe tbody tr th {\n",
       "        vertical-align: top;\n",
       "    }\n",
       "\n",
       "    .dataframe thead th {\n",
       "        text-align: right;\n",
       "    }\n",
       "</style>\n",
       "<table border=\"1\" class=\"dataframe\">\n",
       "  <thead>\n",
       "    <tr style=\"text-align: right;\">\n",
       "      <th></th>\n",
       "      <th>problema_id</th>\n",
       "      <th>descripcion</th>\n",
       "      <th>alias_8_nombre3</th>\n",
       "      <th>problema_n</th>\n",
       "      <th>obsitem</th>\n",
       "      <th>Concaobsitem</th>\n",
       "    </tr>\n",
       "  </thead>\n",
       "  <tbody>\n",
       "    <tr>\n",
       "      <th>0</th>\n",
       "      <td>70e03aaf-6cfb-42e8-92ae-fcb46ff479dd</td>\n",
       "      <td>COCINA PALACE CRISTAL BLACK LX S2 (GN) (U.)</td>\n",
       "      <td>GN - Gas Natural</td>\n",
       "      <td>B1 - Pérdidas de gas con piezas dañadas</td>\n",
       "      <td>HAY UNA PERILLA DE LAS HORNALLA QUE NO SE PUED...</td>\n",
       "      <td>COCINA PALACE CRISTAL BLACK LX S2 (GN) (U.) GN...</td>\n",
       "    </tr>\n",
       "    <tr>\n",
       "      <th>1</th>\n",
       "      <td>e5be47a0-c506-4a79-87e9-2a45f06d496c</td>\n",
       "      <td>COCINA PALACE CRISTAL BLACK LX S2 (GN) (U.)</td>\n",
       "      <td>GN - Gas Natural</td>\n",
       "      <td>G - Perilla no gira / gira mal</td>\n",
       "      <td>HAY UNA PERILLA DE LAS HORNALLA QUE NO SE PUED...</td>\n",
       "      <td>COCINA PALACE CRISTAL BLACK LX S2 (GN) (U.) GN...</td>\n",
       "    </tr>\n",
       "    <tr>\n",
       "      <th>2</th>\n",
       "      <td>2b2af341-20c5-4607-baa0-01972617647e</td>\n",
       "      <td>TERMO ELECTRICO EL-55</td>\n",
       "      <td>ELE - Termo eléctrico</td>\n",
       "      <td>D - No enciende</td>\n",
       "      <td>DESPUÉS DE QUE UNA PERSONA SE DUCHO NO VOLVIÓ ...</td>\n",
       "      <td>TERMO ELECTRICO EL-55 ELE - Termo eléctrico \" ...</td>\n",
       "    </tr>\n",
       "    <tr>\n",
       "      <th>3</th>\n",
       "      <td>ab0ed03a-8aab-4317-9aad-fcc06dd41520</td>\n",
       "      <td>COCINA PALACE CRISTAL BLACK LX S2 (GN) (U.)</td>\n",
       "      <td>GN - Gas Natural</td>\n",
       "      <td>D2 - Hornalla Mal funcionamiento</td>\n",
       "      <td>NaN</td>\n",
       "      <td>COCINA PALACE CRISTAL BLACK LX S2 (GN) (U.) GN...</td>\n",
       "    </tr>\n",
       "    <tr>\n",
       "      <th>4</th>\n",
       "      <td>ab0ed03a-8aab-4317-9aad-fcc06dd41520</td>\n",
       "      <td>COCINA PALACE CRISTAL BLACK LX S2 (GN) (U.)</td>\n",
       "      <td>GN - Gas Natural</td>\n",
       "      <td>D2 - Hornalla Mal funcionamiento</td>\n",
       "      <td>LAS HORNALLAS TARDAN MUCHÍSIMO TIEMPO EN PREND...</td>\n",
       "      <td>COCINA PALACE CRISTAL BLACK LX S2 (GN) (U.) GN...</td>\n",
       "    </tr>\n",
       "  </tbody>\n",
       "</table>\n",
       "</div>"
      ],
      "text/plain": [
       "                            problema_id   \n",
       "0  70e03aaf-6cfb-42e8-92ae-fcb46ff479dd  \\\n",
       "1  e5be47a0-c506-4a79-87e9-2a45f06d496c   \n",
       "2  2b2af341-20c5-4607-baa0-01972617647e   \n",
       "3  ab0ed03a-8aab-4317-9aad-fcc06dd41520   \n",
       "4  ab0ed03a-8aab-4317-9aad-fcc06dd41520   \n",
       "\n",
       "                                   descripcion        alias_8_nombre3   \n",
       "0  COCINA PALACE CRISTAL BLACK LX S2 (GN) (U.)       GN - Gas Natural  \\\n",
       "1  COCINA PALACE CRISTAL BLACK LX S2 (GN) (U.)       GN - Gas Natural   \n",
       "2                        TERMO ELECTRICO EL-55  ELE - Termo eléctrico   \n",
       "3  COCINA PALACE CRISTAL BLACK LX S2 (GN) (U.)       GN - Gas Natural   \n",
       "4  COCINA PALACE CRISTAL BLACK LX S2 (GN) (U.)       GN - Gas Natural   \n",
       "\n",
       "                                problema_n   \n",
       "0  B1 - Pérdidas de gas con piezas dañadas  \\\n",
       "1           G - Perilla no gira / gira mal   \n",
       "2                          D - No enciende   \n",
       "3         D2 - Hornalla Mal funcionamiento   \n",
       "4         D2 - Hornalla Mal funcionamiento   \n",
       "\n",
       "                                             obsitem   \n",
       "0  HAY UNA PERILLA DE LAS HORNALLA QUE NO SE PUED...  \\\n",
       "1  HAY UNA PERILLA DE LAS HORNALLA QUE NO SE PUED...   \n",
       "2  DESPUÉS DE QUE UNA PERSONA SE DUCHO NO VOLVIÓ ...   \n",
       "3                                                NaN   \n",
       "4  LAS HORNALLAS TARDAN MUCHÍSIMO TIEMPO EN PREND...   \n",
       "\n",
       "                                        Concaobsitem  \n",
       "0  COCINA PALACE CRISTAL BLACK LX S2 (GN) (U.) GN...  \n",
       "1  COCINA PALACE CRISTAL BLACK LX S2 (GN) (U.) GN...  \n",
       "2  TERMO ELECTRICO EL-55 ELE - Termo eléctrico \" ...  \n",
       "3  COCINA PALACE CRISTAL BLACK LX S2 (GN) (U.) GN...  \n",
       "4  COCINA PALACE CRISTAL BLACK LX S2 (GN) (U.) GN...  "
      ]
     },
     "execution_count": 72,
     "metadata": {},
     "output_type": "execute_result"
    }
   ],
   "source": [
    "# Leer el archivo CSV\n",
    "df = pd.read_csv('C:/Users/Josvaldes/Documents/Maestria/Austral/2ano/textMining/proyecto/TextMining/TextMining/RECLAMOS 3.csv', encoding='utf-8')\n",
    "df.head()"
   ]
  },
  {
   "cell_type": "code",
   "execution_count": 73,
   "id": "feca104a",
   "metadata": {},
   "outputs": [
    {
     "data": {
      "text/plain": [
       "(18714, 6)"
      ]
     },
     "execution_count": 73,
     "metadata": {},
     "output_type": "execute_result"
    }
   ],
   "source": [
    "#Dimenciones del dataset\n",
    "df.shape"
   ]
  },
  {
   "cell_type": "code",
   "execution_count": 75,
   "id": "7b85235d",
   "metadata": {},
   "outputs": [
    {
     "name": "stdout",
     "output_type": "stream",
     "text": [
      "Cantidad total de clases únicas: 51\n"
     ]
    }
   ],
   "source": [
    "# Cuenta las cantidades de clases\n",
    "clase_counts = df[\"problema_n\"].value_counts()\n",
    "\n",
    "# Obtiene la lista de clases únicas\n",
    "clases_unicas = df[\"problema_n\"].unique()\n",
    "\n",
    "# Cuenta la cantidad de clases únicas\n",
    "cantidad_clases = len(clases_unicas)\n",
    "\n",
    "# Imprime la cantidad de clases únicas\n",
    "print(\"Cantidad total de clases únicas:\", cantidad_clases)"
   ]
  },
  {
   "cell_type": "code",
   "execution_count": 77,
   "id": "e044a5e0",
   "metadata": {},
   "outputs": [
    {
     "data": {
      "text/html": [
       "<div>\n",
       "<style scoped>\n",
       "    .dataframe tbody tr th:only-of-type {\n",
       "        vertical-align: middle;\n",
       "    }\n",
       "\n",
       "    .dataframe tbody tr th {\n",
       "        vertical-align: top;\n",
       "    }\n",
       "\n",
       "    .dataframe thead th {\n",
       "        text-align: right;\n",
       "    }\n",
       "</style>\n",
       "<table border=\"1\" class=\"dataframe\">\n",
       "  <thead>\n",
       "    <tr style=\"text-align: right;\">\n",
       "      <th></th>\n",
       "      <th>problema_id</th>\n",
       "      <th>descripcion</th>\n",
       "      <th>alias_8_nombre3</th>\n",
       "      <th>problema_n</th>\n",
       "      <th>obsitem</th>\n",
       "      <th>Concaobsitem</th>\n",
       "    </tr>\n",
       "  </thead>\n",
       "  <tbody>\n",
       "    <tr>\n",
       "      <th>count</th>\n",
       "      <td>18714</td>\n",
       "      <td>18698</td>\n",
       "      <td>18698</td>\n",
       "      <td>18714</td>\n",
       "      <td>16392</td>\n",
       "      <td>18714</td>\n",
       "    </tr>\n",
       "    <tr>\n",
       "      <th>unique</th>\n",
       "      <td>51</td>\n",
       "      <td>51</td>\n",
       "      <td>5</td>\n",
       "      <td>51</td>\n",
       "      <td>12259</td>\n",
       "      <td>12945</td>\n",
       "    </tr>\n",
       "    <tr>\n",
       "      <th>top</th>\n",
       "      <td>8c5fec8e-37bc-46ac-a031-717476ef2f6f</td>\n",
       "      <td>TERMO ELECTRICO EL-55</td>\n",
       "      <td>GN - Gas Natural</td>\n",
       "      <td>E - Puerta de horno - No cierra / Se cae</td>\n",
       "      <td>NO CALIENTA</td>\n",
       "      <td>COCINA CANDOR S2 (GL) (U.) GE - Gas Envasado \"</td>\n",
       "    </tr>\n",
       "    <tr>\n",
       "      <th>freq</th>\n",
       "      <td>2503</td>\n",
       "      <td>2380</td>\n",
       "      <td>4571</td>\n",
       "      <td>2503</td>\n",
       "      <td>218</td>\n",
       "      <td>412</td>\n",
       "    </tr>\n",
       "  </tbody>\n",
       "</table>\n",
       "</div>"
      ],
      "text/plain": [
       "                                 problema_id            descripcion   \n",
       "count                                  18714                  18698  \\\n",
       "unique                                    51                     51   \n",
       "top     8c5fec8e-37bc-46ac-a031-717476ef2f6f  TERMO ELECTRICO EL-55   \n",
       "freq                                    2503                   2380   \n",
       "\n",
       "         alias_8_nombre3                                problema_n   \n",
       "count              18698                                     18714  \\\n",
       "unique                 5                                        51   \n",
       "top     GN - Gas Natural  E - Puerta de horno - No cierra / Se cae   \n",
       "freq                4571                                      2503   \n",
       "\n",
       "            obsitem                                     Concaobsitem  \n",
       "count         16392                                            18714  \n",
       "unique        12259                                            12945  \n",
       "top     NO CALIENTA  COCINA CANDOR S2 (GL) (U.) GE - Gas Envasado \"   \n",
       "freq            218                                              412  "
      ]
     },
     "execution_count": 77,
     "metadata": {},
     "output_type": "execute_result"
    }
   ],
   "source": [
    "# Obtén un resumen de estadísticas descriptivas para columnas numéricas\n",
    "resumen_estadistico = df.describe(include='all')\n",
    "resumen_estadistico"
   ]
  },
  {
   "cell_type": "code",
   "execution_count": 81,
   "id": "03985a68",
   "metadata": {},
   "outputs": [
    {
     "name": "stdout",
     "output_type": "stream",
     "text": [
      "problema_id           0\n",
      "descripcion          16\n",
      "alias_8_nombre3      16\n",
      "problema_n            0\n",
      "obsitem            2322\n",
      "Concaobsitem          0\n",
      "dtype: int64\n"
     ]
    }
   ],
   "source": [
    "# Lista de columnas de interés\n",
    "columnas_de_interes = [\"problema_id\", \"descripcion\", \"alias_8_nombre3\", \"problema_n\", \"obsitem\", \"Concaobsitem\"]\n",
    "\n",
    "# Verifica la cantidad de valores nulos por columna\n",
    "valores_nulos_por_columna = df[columnas_de_interes].isnull().sum()\n",
    "\n",
    "# Imprime la cantidad de valores nulos por columna\n",
    "print(valores_nulos_por_columna)"
   ]
  },
  {
   "cell_type": "code",
   "execution_count": 8,
   "id": "51d79836-b540-4873-a784-170ab2265ea2",
   "metadata": {
    "tags": []
   },
   "outputs": [],
   "source": [
    "# Buscar y reemplazar la categoría B1 y B2\n",
    "categoria_a_buscar = 'B2 - Pérdidas de gas sin piezas dañadas'\n",
    "categoria_a_reemplazar = 'B1 - Pérdidas de gas con piezas dañadas'\n",
    "\n",
    "df['problema_n'] = df['problema_n'].replace(categoria_a_buscar, categoria_a_reemplazar)"
   ]
  },
  {
   "cell_type": "code",
   "execution_count": 10,
   "id": "b026ee12",
   "metadata": {},
   "outputs": [],
   "source": [
    "# Buscar y reemplazar la categoría C2 y C3 por C1 con la descripcion de C2\n",
    "#se elimina la categoria C2\n",
    "categoria_a_buscar = 'C2 - Horno Mal funcionamiento'\n",
    "categoria_a_reemplazar = 'C1 - Horno Mal funcionamiento'\n",
    "\n",
    "df['problema_n'] = df['problema_n'].replace(categoria_a_buscar, categoria_a_reemplazar)\n",
    "\n",
    "#se actualiza la categoria C1\n",
    "categoria_a_buscar = 'C1 - Horno No enciende'\n",
    "categoria_a_reemplazar = 'C1 - Horno Mal funcionamiento'\n",
    "\n",
    "df['problema_n'] = df['problema_n'].replace(categoria_a_buscar, categoria_a_reemplazar)\n",
    "\n",
    "#se elimina la categoria C3\n",
    "categoria_a_buscar = 'C3 - Horno Se Apaga'\n",
    "categoria_a_reemplazar = 'C1 - Horno Mal funcionamiento'\n",
    "\n",
    "#contar = (df['problema_n'] == 'C2 - Horno Mal funcionamiento').sum()\n",
    "#contar"
   ]
  },
  {
   "cell_type": "code",
   "execution_count": 85,
   "id": "6bcf86b0",
   "metadata": {},
   "outputs": [],
   "source": [
    "#Agrupaciones \n",
    "df['problema_n'] = df['problema_n'].replace('K - Fallas en encendido electrónico y/o luz de horno', 'K - Fallas en encendido electrónico')\n",
    "df['problema_n'] = df['problema_n'].replace('B - Pérdidas de gas sin/con piezas quemadas', 'B - Pérdidas de gas – sin/con piezas quemadas')\n",
    "df['problema_n'] = df['problema_n'].replace('J - Defectos estéticos - Modelos Ac.  inoxidable', 'I - Defectos estéticos')\n",
    "df['problema_n'] = df['problema_n'].replace('C1 - Horno No enciende', 'C2 - Horno Mal funcionamiento')\n",
    "df['problema_n'] = df['problema_n'].replace('C3 - Horno Se Apaga', 'C2 - Horno Mal funcionamiento')\n",
    "df['problema_n'] = df['problema_n'].replace('E - El agua sale con temperatura baja, alta', 'E - El agua sale con temperatura baja / alta')\n",
    "\n",
    "##Hornallas\n",
    "df['problema_n'] = df['problema_n'].replace('D4 - Otra Hornalla no enciende', 'D2 - Hornalla Mal funcionamiento')\n",
    "df['problema_n'] = df['problema_n'].replace('D6 - Otra Hornalla Se Apaga', 'D2 - Hornalla Mal funcionamiento')\n",
    "df['problema_n'] = df['problema_n'].replace('D3 - Hornalla Se Apaga', 'D2 - Hornalla Mal funcionamiento')\n",
    "df['problema_n'] = df['problema_n'].replace('D1 - Hornalla No enciende', 'D2 - Hornalla Mal funcionamiento')\n",
    "df['problema_n'] = df['problema_n'].replace('D5 - Otra Hornalla Mal funcionamiento', 'D2 - Hornalla Mal funcionamiento')\n",
    "\n",
    "#Elimino los que \"no sirven\"\n",
    "# Crear una condición para filtrar los registros que NO contienen los valores especificados\n",
    "condicion = ~df['problema_n'].isin(['K - Otro problema no mencionado en opciones anteriores', 'J - Otras piezas en mal estado','E - No se apaga el calefón al cerrar la circulación de agua','L - Falta/Falla accesorios Kit MULTIGAS','Q - Problema no mencionado en opciones anteriores','P - Otras piezas en mal estado','H - Piezas se caen, mal fijadas o mal posicionadas','N - Manija rota','H - Accesorios faltantes','I - Otros defectos','G - Piezas faltantes / mal fijadas','F - No apaga','I - Accesorios cambio de GAS','H - Accesorios faltantes','J - Defectos estéticos','G - Piezas faltantes / mal fijadas','K - Problema no mencionado en opciones anteriores'])\n",
    "df = df[condicion]\n"
   ]
  },
  {
   "cell_type": "code",
   "execution_count": 86,
   "id": "d8db31ad",
   "metadata": {},
   "outputs": [
    {
     "name": "stdout",
     "output_type": "stream",
     "text": [
      "Cantidad total de clases únicas: 26\n"
     ]
    }
   ],
   "source": [
    "# Cuenta las cantidades de clases\n",
    "clase_counts = df[\"problema_n\"].value_counts()\n",
    "\n",
    "# Obtiene la lista de clases únicas\n",
    "clases_unicas = df[\"problema_n\"].unique()\n",
    "\n",
    "# Cuenta la cantidad de clases únicas\n",
    "cantidad_clases = len(clases_unicas)\n",
    "\n",
    "# Imprime la cantidad de clases únicas\n",
    "print(\"Cantidad total de clases únicas:\", cantidad_clases)"
   ]
  },
  {
   "cell_type": "code",
   "execution_count": 87,
   "id": "7d4abd01-ecfd-41c1-9537-02b75b1e641e",
   "metadata": {
    "tags": []
   },
   "outputs": [],
   "source": [
    "# Se elimina las filas vacias de los campos descripcion, alias_8_nombre3  y obsitem\n",
    "df.dropna(subset=['descripcion', 'alias_8_nombre3','obsitem'], inplace=True)"
   ]
  },
  {
   "cell_type": "code",
   "execution_count": 88,
   "id": "7b64ce1d-1815-46b6-8a01-d99ae33455df",
   "metadata": {
    "tags": []
   },
   "outputs": [],
   "source": [
    "# Concatenar las columnas \"descripcion\", \"alias_8_nombre3\" y \"obsitem\" en una nueva columna \"Concaobsitem\"\n",
    "df['Concaobsitem'] = df['descripcion'] + ' ' + df['alias_8_nombre3']+ ' ' + df['obsitem']"
   ]
  },
  {
   "cell_type": "code",
   "execution_count": 89,
   "id": "b39ebc66",
   "metadata": {},
   "outputs": [
    {
     "data": {
      "text/plain": [
       "(15617, 6)"
      ]
     },
     "execution_count": 89,
     "metadata": {},
     "output_type": "execute_result"
    }
   ],
   "source": [
    "df.shape"
   ]
  },
  {
   "cell_type": "code",
   "execution_count": 90,
   "id": "8a68bb29",
   "metadata": {},
   "outputs": [
    {
     "name": "stdout",
     "output_type": "stream",
     "text": [
      "problema_id        0\n",
      "descripcion        0\n",
      "alias_8_nombre3    0\n",
      "problema_n         0\n",
      "obsitem            0\n",
      "Concaobsitem       0\n",
      "dtype: int64\n"
     ]
    }
   ],
   "source": [
    "# Lista de columnas de interés\n",
    "columnas_de_interes = [\"problema_id\", \"descripcion\", \"alias_8_nombre3\", \"problema_n\", \"obsitem\", \"Concaobsitem\"]\n",
    "\n",
    "# Verifica la cantidad de valores nulos por columna\n",
    "valores_nulos_por_columna = df[columnas_de_interes].isnull().sum()\n",
    "\n",
    "# Imprime la cantidad de valores nulos por columna\n",
    "print(valores_nulos_por_columna)"
   ]
  },
  {
   "cell_type": "code",
   "execution_count": 56,
   "id": "f97f24bf-c4ae-4bf2-bec5-102b0b0a124c",
   "metadata": {
    "tags": []
   },
   "outputs": [],
   "source": [
    "# Obtener las columnas de diagnósticos y códigos AIS\n",
    "descripciones = df['Concaobsitem'].tolist()\n",
    "etiquetas = df['problema_n'].tolist()"
   ]
  },
  {
   "cell_type": "code",
   "execution_count": 57,
   "id": "bc8e888d-8ad4-4e04-98d2-82d5a66134d3",
   "metadata": {
    "tags": []
   },
   "outputs": [],
   "source": [
    "for desc in descripciones:\n",
    "    if not isinstance(desc, str):\n",
    "        print(f\"Elemento {desc} no es una cadena de texto (str).\")"
   ]
  },
  {
   "cell_type": "code",
   "execution_count": 58,
   "id": "cbeff137-5f19-4251-a405-94247d74b8f6",
   "metadata": {
    "tags": []
   },
   "outputs": [],
   "source": [
    "# Codificar las etiquetas como etiquetas numéricas\n",
    "label_encoder = LabelEncoder()\n",
    "etiquetas_numericas = label_encoder.fit_transform(etiquetas)"
   ]
  },
  {
   "cell_type": "code",
   "execution_count": 59,
   "id": "f4a21110-818f-4f88-b59b-7296ed965f4b",
   "metadata": {
    "tags": []
   },
   "outputs": [],
   "source": [
    "# Preprocesamiento de texto\n",
    "stemmer = SnowballStemmer('spanish')\n",
    "stop_words = set(stopwords.words('spanish'))"
   ]
  },
  {
   "cell_type": "code",
   "execution_count": 60,
   "id": "18b27f5f-cfbd-4e25-bb23-08a53edc0d56",
   "metadata": {
    "tags": []
   },
   "outputs": [],
   "source": [
    "def preprocesar_texto(texto):\n",
    "    palabras = nltk.word_tokenize(texto.lower())\n",
    "    palabras = [stemmer.stem(palabra) for palabra in palabras if palabra.isalpha() and palabra not in stop_words]\n",
    "    return ' '.join(palabras)"
   ]
  },
  {
   "cell_type": "code",
   "execution_count": 61,
   "id": "f16ff528-8ac1-4acb-ade9-403c35632934",
   "metadata": {
    "tags": []
   },
   "outputs": [],
   "source": [
    "descripciones_preprocesadas = [preprocesar_texto(desc) for desc in descripciones]"
   ]
  },
  {
   "cell_type": "code",
   "execution_count": 62,
   "id": "e15c8237-1cfc-44c2-a570-18393e8c11b7",
   "metadata": {
    "tags": []
   },
   "outputs": [],
   "source": [
    "# División de los datos en conjuntos de entrenamiento y prueba\n",
    "X_train, X_test, y_train, y_test = train_test_split(descripciones_preprocesadas, etiquetas_numericas, test_size=0.2, random_state=42)"
   ]
  },
  {
   "cell_type": "code",
   "execution_count": 63,
   "id": "81cfb660-646b-418b-b8bf-77e0d2257371",
   "metadata": {
    "tags": []
   },
   "outputs": [],
   "source": [
    "# Creación del pipeline para el clasificador basado en texto\n",
    "pipeline = Pipeline([\n",
    "    ('tfidf', TfidfVectorizer(max_features=5000)),  # Experimenta con diferentes valores para max_features\n",
    "    ('clf', SVC(kernel='linear'))  # Experimenta con diferentes kernels\n",
    "])"
   ]
  },
  {
   "cell_type": "code",
   "execution_count": 64,
   "id": "8e1ca8b1-5562-42d6-82f6-b94dc0dd5658",
   "metadata": {
    "tags": []
   },
   "outputs": [],
   "source": [
    "# Entrenamiento del modelo\n",
    "pipeline.fit(X_train, y_train)\n",
    "scores = cross_val_score(pipeline, X_train, y_train, cv=5) "
   ]
  },
  {
   "cell_type": "code",
   "execution_count": 65,
   "id": "f2d7fbb0-4fd3-4ca7-bbfc-8df68943afb2",
   "metadata": {
    "tags": []
   },
   "outputs": [
    {
     "name": "stdout",
     "output_type": "stream",
     "text": [
      "Accuracy en validación cruzada: 0.7468176381841768\n"
     ]
    }
   ],
   "source": [
    "print(\"Accuracy en validación cruzada:\", scores.mean())"
   ]
  },
  {
   "cell_type": "code",
   "execution_count": 66,
   "id": "2b81efba-7c07-4c03-88da-a6e7174863b5",
   "metadata": {},
   "outputs": [
    {
     "name": "stdout",
     "output_type": "stream",
     "text": [
      "                                                                                                   precision    recall  f1-score   support\n",
      "\n",
      "                                                                    B - Descargas de electricidad       1.00      0.20      0.33        20\n",
      "                                               B - La llama no enciende al abrir el grifo de agua       0.69      1.00      0.82        29\n",
      "                                                    B - Pérdidas de gas – sin/con piezas quemadas       0.67      0.17      0.27        12\n",
      "                                                          B1 - Pérdidas de gas con piezas dañadas       0.42      0.14      0.21        70\n",
      "                                                          B2 - Pérdidas de gas sin piezas dañadas       0.69      0.76      0.72       188\n",
      "                              C - La llama se apaga luego de algunos minutos de estar funcionando       0.75      0.46      0.57        13\n",
      "                                                                             C - Pérdidas de agua       0.86      0.95      0.90       301\n",
      "                                                                    C2 - Horno Mal funcionamiento       0.78      0.67      0.73       264\n",
      "                                                            D - El agua sale con temperatura baja       1.00      0.50      0.67         4\n",
      "                                                                                  D - No enciende       0.64      0.45      0.53       269\n",
      "                                                                           D - No enciende piloto       0.47      0.28      0.35        69\n",
      "                                                                 D2 - Hornalla Mal funcionamiento       0.71      0.83      0.76       481\n",
      "                                                     E - El agua sale con temperatura baja / alta       0.67      0.87      0.76       418\n",
      "                                                                              E - Piloto se apaga       0.71      0.83      0.77       202\n",
      "                                                         E - Puerta de horno - No cierra / Se cae       0.88      0.95      0.91       481\n",
      "F - No calienta agua Mal funcionamientoQuemador no enciende Quemador se apagaQuemador no se apaga       0.75      0.59      0.66        66\n",
      "                                                                  F - Puerta Parrilla - No cierra       0.60      0.14      0.22        22\n",
      "                                                                              F - Pérdida de agua       1.00      0.38      0.55         8\n",
      "                                                                   G - Perilla no gira / gira mal       0.62      0.67      0.65        60\n",
      "                                                            G - Pérdida de gas SIN piezas dañadas       1.00      1.00      1.00         0\n",
      "                                                            H - Pérdida de gas CON piezas dañadas       1.00      1.00      1.00         0\n",
      "                                                                           I - Defectos estéticos       1.00      0.00      0.00         9\n",
      "                                                  J - Defectos estéticos - Modelos Ac. inoxidable       1.00      0.00      0.00         6\n",
      "                                                J - Problema no mencionado en opciones anteriores       0.80      0.16      0.27        49\n",
      "                                                              K - Fallas en encendido electrónico       0.59      0.36      0.45        44\n",
      "                                                                             M - Vidrio estallado       0.97      0.79      0.87        39\n",
      "\n",
      "                                                                                        micro avg       0.74      0.74      0.74      3124\n",
      "                                                                                        macro avg       0.78      0.54      0.58      3124\n",
      "                                                                                     weighted avg       0.74      0.74      0.72      3124\n",
      "\n"
     ]
    }
   ],
   "source": [
    "# Evaluación del modelo en el conjunto de prueba\n",
    "y_pred = pipeline.predict(X_test)\n",
    "report = classification_report(y_test, y_pred, labels=np.unique(etiquetas_numericas), target_names=label_encoder.inverse_transform(np.unique(etiquetas_numericas)), zero_division=1)\n",
    "print(report)"
   ]
  },
  {
   "cell_type": "code",
   "execution_count": 67,
   "id": "a5bcebcf",
   "metadata": {},
   "outputs": [
    {
     "data": {
      "text/html": [
       "<div>\n",
       "<style scoped>\n",
       "    .dataframe tbody tr th:only-of-type {\n",
       "        vertical-align: middle;\n",
       "    }\n",
       "\n",
       "    .dataframe tbody tr th {\n",
       "        vertical-align: top;\n",
       "    }\n",
       "\n",
       "    .dataframe thead th {\n",
       "        text-align: right;\n",
       "    }\n",
       "</style>\n",
       "<table border=\"1\" class=\"dataframe\">\n",
       "  <thead>\n",
       "    <tr style=\"text-align: right;\">\n",
       "      <th></th>\n",
       "      <th>Descripcion</th>\n",
       "    </tr>\n",
       "  </thead>\n",
       "  <tbody>\n",
       "    <tr>\n",
       "      <th>0</th>\n",
       "      <td>TERMO 45 L GN (U.) GAS - Termo a gas \" EL EQUI...</td>\n",
       "    </tr>\n",
       "    <tr>\n",
       "      <th>1</th>\n",
       "      <td>TERMO ELECTRICO EL-55 ELE - Termo eléctrico \" ...</td>\n",
       "    </tr>\n",
       "    <tr>\n",
       "      <th>2</th>\n",
       "      <td>COCINA PALACE CRISTAL BLACK LX S2 (GN) (U.) GN...</td>\n",
       "    </tr>\n",
       "    <tr>\n",
       "      <th>3</th>\n",
       "      <td>TERMO 80 L GN (U.) GAS - Termo a gas \" NO SE M...</td>\n",
       "    </tr>\n",
       "    <tr>\n",
       "      <th>4</th>\n",
       "      <td>TERMO ELECTRICO EL-90 ELE - Termo eléctrico \" ...</td>\n",
       "    </tr>\n",
       "    <tr>\n",
       "      <th>5</th>\n",
       "      <td>COCINA CANDOR S2 (GN) (U.) GN - Gas Natural \" ...</td>\n",
       "    </tr>\n",
       "    <tr>\n",
       "      <th>6</th>\n",
       "      <td>COCINA MASTER S2 BL CLASSIC. (GN.) (U.) GN - G...</td>\n",
       "    </tr>\n",
       "    <tr>\n",
       "      <th>7</th>\n",
       "      <td>COCINA PALACE CRISTAL BLACK LX S2 (GN) (U.) GN...</td>\n",
       "    </tr>\n",
       "    <tr>\n",
       "      <th>8</th>\n",
       "      <td>COCINA MASTER S2 NEG.CLASSIC (GN) (U.) GN - Ga...</td>\n",
       "    </tr>\n",
       "    <tr>\n",
       "      <th>9</th>\n",
       "      <td>COCINA MASTER S2 NEG.CLASSIC (GN) (U.) GN - Ga...</td>\n",
       "    </tr>\n",
       "    <tr>\n",
       "      <th>10</th>\n",
       "      <td>TERMO ELECTRICO EL-55 ELE - Termo eléctrico \" ...</td>\n",
       "    </tr>\n",
       "    <tr>\n",
       "      <th>11</th>\n",
       "      <td>TERMO 45 L GN (U.) GAS - Termo a gas \"</td>\n",
       "    </tr>\n",
       "    <tr>\n",
       "      <th>12</th>\n",
       "      <td>COCINA MASTER STYLE INOX. MULTIGAS (U.) MG - M...</td>\n",
       "    </tr>\n",
       "    <tr>\n",
       "      <th>13</th>\n",
       "      <td>TERMO ELECTRICO EL-90 ELE - Termo eléctrico \" ...</td>\n",
       "    </tr>\n",
       "    <tr>\n",
       "      <th>14</th>\n",
       "      <td>COCINA CANDOR S2 BLACK GL (U.) GE - Gas Envasa...</td>\n",
       "    </tr>\n",
       "    <tr>\n",
       "      <th>15</th>\n",
       "      <td>COCINA CANDOR S2 BLACK (GN) (U.) GN - Gas Natu...</td>\n",
       "    </tr>\n",
       "  </tbody>\n",
       "</table>\n",
       "</div>"
      ],
      "text/plain": [
       "                                          Descripcion\n",
       "0   TERMO 45 L GN (U.) GAS - Termo a gas \" EL EQUI...\n",
       "1   TERMO ELECTRICO EL-55 ELE - Termo eléctrico \" ...\n",
       "2   COCINA PALACE CRISTAL BLACK LX S2 (GN) (U.) GN...\n",
       "3   TERMO 80 L GN (U.) GAS - Termo a gas \" NO SE M...\n",
       "4   TERMO ELECTRICO EL-90 ELE - Termo eléctrico \" ...\n",
       "5   COCINA CANDOR S2 (GN) (U.) GN - Gas Natural \" ...\n",
       "6   COCINA MASTER S2 BL CLASSIC. (GN.) (U.) GN - G...\n",
       "7   COCINA PALACE CRISTAL BLACK LX S2 (GN) (U.) GN...\n",
       "8   COCINA MASTER S2 NEG.CLASSIC (GN) (U.) GN - Ga...\n",
       "9   COCINA MASTER S2 NEG.CLASSIC (GN) (U.) GN - Ga...\n",
       "10  TERMO ELECTRICO EL-55 ELE - Termo eléctrico \" ...\n",
       "11            TERMO 45 L GN (U.) GAS - Termo a gas \" \n",
       "12  COCINA MASTER STYLE INOX. MULTIGAS (U.) MG - M...\n",
       "13  TERMO ELECTRICO EL-90 ELE - Termo eléctrico \" ...\n",
       "14  COCINA CANDOR S2 BLACK GL (U.) GE - Gas Envasa...\n",
       "15  COCINA CANDOR S2 BLACK (GN) (U.) GN - Gas Natu..."
      ]
     },
     "execution_count": 67,
     "metadata": {},
     "output_type": "execute_result"
    }
   ],
   "source": [
    "# Cargar descripciones de problemas para evaluar\n",
    "archivo_evaluacion = 'C:/Users/Josvaldes/Documents/Maestria/Austral/2ano/textMining/proyecto/TextMining/TextMining/testesco.txt'\n",
    "lineas = pd.read_csv(archivo_evaluacion, delimiter='\\t', header=None, names=['Descripcion'])\n",
    "lineas"
   ]
  },
  {
   "cell_type": "code",
   "execution_count": 68,
   "id": "62f7d0de",
   "metadata": {},
   "outputs": [],
   "source": [
    "resultados = []\n",
    "\n",
    "for index, row in lineas.iterrows():\n",
    "    problema = row['Descripcion'].strip()\n",
    "    problema_preprocesado = preprocesar_texto(problema)\n",
    "    predicciones = pipeline.predict([problema_preprocesado])\n",
    "    clase_predicha = label_encoder.inverse_transform(predicciones)[0]\n",
    "    resultados.append({\n",
    "        'Problema': problema,\n",
    "        'Etiqueta de Reclamo': clase_predicha\n",
    "    })\n",
    "    \n",
    "\n",
    "resultados_df = pd.DataFrame(resultados)"
   ]
  },
  {
   "cell_type": "code",
   "execution_count": 69,
   "id": "1db7f080",
   "metadata": {},
   "outputs": [
    {
     "name": "stdout",
     "output_type": "stream",
     "text": [
      "Resultados guardados en: C:/Users/Josvaldes/Documents/Maestria/Austral/2ano/textMining/proyecto/TextMining/TextMining/testresultadoCV_SVCFinal.txt\n"
     ]
    }
   ],
   "source": [
    "archivo_resultado = 'C:/Users/Josvaldes/Documents/Maestria/Austral/2ano/textMining/proyecto/TextMining/TextMining/testresultadoCV_SVCFinal.txt'\n",
    "resultados_df.to_csv(archivo_resultado, index=False, sep='\\t', encoding='utf-8')\n",
    "\n",
    "print(\"Resultados guardados en:\", archivo_resultado)"
   ]
  },
  {
   "cell_type": "code",
   "execution_count": 70,
   "id": "89056b78",
   "metadata": {},
   "outputs": [
    {
     "data": {
      "text/html": [
       "<div>\n",
       "<style scoped>\n",
       "    .dataframe tbody tr th:only-of-type {\n",
       "        vertical-align: middle;\n",
       "    }\n",
       "\n",
       "    .dataframe tbody tr th {\n",
       "        vertical-align: top;\n",
       "    }\n",
       "\n",
       "    .dataframe thead th {\n",
       "        text-align: right;\n",
       "    }\n",
       "</style>\n",
       "<table border=\"1\" class=\"dataframe\">\n",
       "  <thead>\n",
       "    <tr style=\"text-align: right;\">\n",
       "      <th></th>\n",
       "      <th>Problema</th>\n",
       "      <th>Etiqueta de Reclamo</th>\n",
       "    </tr>\n",
       "  </thead>\n",
       "  <tbody>\n",
       "    <tr>\n",
       "      <th>0</th>\n",
       "      <td>TERMO 45 L GN (U.) GAS - Termo a gas \" EL EQUI...</td>\n",
       "      <td>C - Pérdidas de agua</td>\n",
       "    </tr>\n",
       "    <tr>\n",
       "      <th>1</th>\n",
       "      <td>TERMO ELECTRICO EL-55 ELE - Termo eléctrico \" ...</td>\n",
       "      <td>C - Pérdidas de agua</td>\n",
       "    </tr>\n",
       "    <tr>\n",
       "      <th>2</th>\n",
       "      <td>COCINA PALACE CRISTAL BLACK LX S2 (GN) (U.) GN...</td>\n",
       "      <td>E - Puerta de horno - No cierra / Se cae</td>\n",
       "    </tr>\n",
       "    <tr>\n",
       "      <th>3</th>\n",
       "      <td>TERMO 80 L GN (U.) GAS - Termo a gas \" NO SE M...</td>\n",
       "      <td>E - Piloto se apaga</td>\n",
       "    </tr>\n",
       "    <tr>\n",
       "      <th>4</th>\n",
       "      <td>TERMO ELECTRICO EL-90 ELE - Termo eléctrico \" ...</td>\n",
       "      <td>C - Pérdidas de agua</td>\n",
       "    </tr>\n",
       "    <tr>\n",
       "      <th>5</th>\n",
       "      <td>COCINA CANDOR S2 (GN) (U.) GN - Gas Natural \" ...</td>\n",
       "      <td>E - Puerta de horno - No cierra / Se cae</td>\n",
       "    </tr>\n",
       "    <tr>\n",
       "      <th>6</th>\n",
       "      <td>COCINA MASTER S2 BL CLASSIC. (GN.) (U.) GN - G...</td>\n",
       "      <td>D2 - Hornalla Mal funcionamiento</td>\n",
       "    </tr>\n",
       "    <tr>\n",
       "      <th>7</th>\n",
       "      <td>COCINA PALACE CRISTAL BLACK LX S2 (GN) (U.) GN...</td>\n",
       "      <td>D2 - Hornalla Mal funcionamiento</td>\n",
       "    </tr>\n",
       "    <tr>\n",
       "      <th>8</th>\n",
       "      <td>COCINA MASTER S2 NEG.CLASSIC (GN) (U.) GN - Ga...</td>\n",
       "      <td>D2 - Hornalla Mal funcionamiento</td>\n",
       "    </tr>\n",
       "    <tr>\n",
       "      <th>9</th>\n",
       "      <td>COCINA MASTER S2 NEG.CLASSIC (GN) (U.) GN - Ga...</td>\n",
       "      <td>B2 - Pérdidas de gas sin piezas dañadas</td>\n",
       "    </tr>\n",
       "    <tr>\n",
       "      <th>10</th>\n",
       "      <td>TERMO ELECTRICO EL-55 ELE - Termo eléctrico \" ...</td>\n",
       "      <td>D - No enciende</td>\n",
       "    </tr>\n",
       "    <tr>\n",
       "      <th>11</th>\n",
       "      <td>TERMO 45 L GN (U.) GAS - Termo a gas \"</td>\n",
       "      <td>D - No enciende piloto</td>\n",
       "    </tr>\n",
       "    <tr>\n",
       "      <th>12</th>\n",
       "      <td>COCINA MASTER STYLE INOX. MULTIGAS (U.) MG - M...</td>\n",
       "      <td>D2 - Hornalla Mal funcionamiento</td>\n",
       "    </tr>\n",
       "    <tr>\n",
       "      <th>13</th>\n",
       "      <td>TERMO ELECTRICO EL-90 ELE - Termo eléctrico \" ...</td>\n",
       "      <td>D - No enciende</td>\n",
       "    </tr>\n",
       "    <tr>\n",
       "      <th>14</th>\n",
       "      <td>COCINA CANDOR S2 BLACK GL (U.) GE - Gas Envasa...</td>\n",
       "      <td>E - Puerta de horno - No cierra / Se cae</td>\n",
       "    </tr>\n",
       "    <tr>\n",
       "      <th>15</th>\n",
       "      <td>COCINA CANDOR S2 BLACK (GN) (U.) GN - Gas Natu...</td>\n",
       "      <td>D2 - Hornalla Mal funcionamiento</td>\n",
       "    </tr>\n",
       "  </tbody>\n",
       "</table>\n",
       "</div>"
      ],
      "text/plain": [
       "                                             Problema   \n",
       "0   TERMO 45 L GN (U.) GAS - Termo a gas \" EL EQUI...  \\\n",
       "1   TERMO ELECTRICO EL-55 ELE - Termo eléctrico \" ...   \n",
       "2   COCINA PALACE CRISTAL BLACK LX S2 (GN) (U.) GN...   \n",
       "3   TERMO 80 L GN (U.) GAS - Termo a gas \" NO SE M...   \n",
       "4   TERMO ELECTRICO EL-90 ELE - Termo eléctrico \" ...   \n",
       "5   COCINA CANDOR S2 (GN) (U.) GN - Gas Natural \" ...   \n",
       "6   COCINA MASTER S2 BL CLASSIC. (GN.) (U.) GN - G...   \n",
       "7   COCINA PALACE CRISTAL BLACK LX S2 (GN) (U.) GN...   \n",
       "8   COCINA MASTER S2 NEG.CLASSIC (GN) (U.) GN - Ga...   \n",
       "9   COCINA MASTER S2 NEG.CLASSIC (GN) (U.) GN - Ga...   \n",
       "10  TERMO ELECTRICO EL-55 ELE - Termo eléctrico \" ...   \n",
       "11             TERMO 45 L GN (U.) GAS - Termo a gas \"   \n",
       "12  COCINA MASTER STYLE INOX. MULTIGAS (U.) MG - M...   \n",
       "13  TERMO ELECTRICO EL-90 ELE - Termo eléctrico \" ...   \n",
       "14  COCINA CANDOR S2 BLACK GL (U.) GE - Gas Envasa...   \n",
       "15  COCINA CANDOR S2 BLACK (GN) (U.) GN - Gas Natu...   \n",
       "\n",
       "                         Etiqueta de Reclamo  \n",
       "0                       C - Pérdidas de agua  \n",
       "1                       C - Pérdidas de agua  \n",
       "2   E - Puerta de horno - No cierra / Se cae  \n",
       "3                        E - Piloto se apaga  \n",
       "4                       C - Pérdidas de agua  \n",
       "5   E - Puerta de horno - No cierra / Se cae  \n",
       "6           D2 - Hornalla Mal funcionamiento  \n",
       "7           D2 - Hornalla Mal funcionamiento  \n",
       "8           D2 - Hornalla Mal funcionamiento  \n",
       "9    B2 - Pérdidas de gas sin piezas dañadas  \n",
       "10                           D - No enciende  \n",
       "11                    D - No enciende piloto  \n",
       "12          D2 - Hornalla Mal funcionamiento  \n",
       "13                           D - No enciende  \n",
       "14  E - Puerta de horno - No cierra / Se cae  \n",
       "15          D2 - Hornalla Mal funcionamiento  "
      ]
     },
     "execution_count": 70,
     "metadata": {},
     "output_type": "execute_result"
    }
   ],
   "source": [
    "# Leer el archivo excel\n",
    "dfPrueba = pd.read_csv(archivo_resultado, encoding='utf-8', delimiter='\\t')\n",
    "dfPrueba"
   ]
  }
 ],
 "metadata": {
  "kernelspec": {
   "display_name": "Python 3",
   "language": "python",
   "name": "python3"
  },
  "language_info": {
   "codemirror_mode": {
    "name": "ipython",
    "version": 3
   },
   "file_extension": ".py",
   "mimetype": "text/x-python",
   "name": "python",
   "nbconvert_exporter": "python",
   "pygments_lexer": "ipython3",
   "version": "3.11.4"
  }
 },
 "nbformat": 4,
 "nbformat_minor": 5
}
