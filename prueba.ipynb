{
 "cells": [
  {
   "cell_type": "code",
   "execution_count": 2,
   "id": "d37ed317-3b64-4597-8f5e-5e85680f7c6e",
   "metadata": {
    "tags": []
   },
   "outputs": [
    {
     "name": "stderr",
     "output_type": "stream",
     "text": [
      "[nltk_data] Downloading package stopwords to\n",
      "[nltk_data]     C:\\Users\\Josvaldes\\AppData\\Roaming\\nltk_data...\n",
      "[nltk_data]   Package stopwords is already up-to-date!\n",
      "[nltk_data] Downloading package punkt to\n",
      "[nltk_data]     C:\\Users\\Josvaldes\\AppData\\Roaming\\nltk_data...\n",
      "[nltk_data]   Package punkt is already up-to-date!\n"
     ]
    },
    {
     "data": {
      "text/plain": [
       "True"
      ]
     },
     "execution_count": 2,
     "metadata": {},
     "output_type": "execute_result"
    }
   ],
   "source": [
    "import numpy as np\n",
    "import pandas as pd\n",
    "from sklearn.feature_extraction.text import TfidfVectorizer\n",
    "from sklearn.model_selection import cross_val_score, train_test_split\n",
    "from sklearn.pipeline import Pipeline\n",
    "from sklearn.svm import SVC\n",
    "from sklearn.preprocessing import LabelEncoder\n",
    "import nltk\n",
    "from nltk.corpus import stopwords\n",
    "from nltk.stem import SnowballStemmer\n",
    "from sklearn.metrics import classification_report\n",
    "\n",
    "nltk.download('stopwords')\n",
    "nltk.download('punkt')"
   ]
  },
  {
   "cell_type": "code",
   "execution_count": 3,
   "id": "184dcc38-27e6-4f81-9fe6-ad5701958c22",
   "metadata": {
    "tags": []
   },
   "outputs": [
    {
     "data": {
      "text/html": [
       "<div>\n",
       "<style scoped>\n",
       "    .dataframe tbody tr th:only-of-type {\n",
       "        vertical-align: middle;\n",
       "    }\n",
       "\n",
       "    .dataframe tbody tr th {\n",
       "        vertical-align: top;\n",
       "    }\n",
       "\n",
       "    .dataframe thead th {\n",
       "        text-align: right;\n",
       "    }\n",
       "</style>\n",
       "<table border=\"1\" class=\"dataframe\">\n",
       "  <thead>\n",
       "    <tr style=\"text-align: right;\">\n",
       "      <th></th>\n",
       "      <th>problema_id</th>\n",
       "      <th>descripcion</th>\n",
       "      <th>alias_8_nombre3</th>\n",
       "      <th>problema_n</th>\n",
       "      <th>obsitem</th>\n",
       "      <th>Concaobsitem</th>\n",
       "    </tr>\n",
       "  </thead>\n",
       "  <tbody>\n",
       "    <tr>\n",
       "      <th>0</th>\n",
       "      <td>70e03aaf-6cfb-42e8-92ae-fcb46ff479dd</td>\n",
       "      <td>COCINA PALACE CRISTAL BLACK LX S2 (GN) (U.)</td>\n",
       "      <td>GN - Gas Natural</td>\n",
       "      <td>B1 - Pérdidas de gas con piezas dañadas</td>\n",
       "      <td>HAY UNA PERILLA DE LAS HORNALLA QUE NO SE PUED...</td>\n",
       "      <td>COCINA PALACE CRISTAL BLACK LX S2 (GN) (U.) GN...</td>\n",
       "    </tr>\n",
       "    <tr>\n",
       "      <th>1</th>\n",
       "      <td>e5be47a0-c506-4a79-87e9-2a45f06d496c</td>\n",
       "      <td>COCINA PALACE CRISTAL BLACK LX S2 (GN) (U.)</td>\n",
       "      <td>GN - Gas Natural</td>\n",
       "      <td>G - Perilla no gira / gira mal</td>\n",
       "      <td>HAY UNA PERILLA DE LAS HORNALLA QUE NO SE PUED...</td>\n",
       "      <td>COCINA PALACE CRISTAL BLACK LX S2 (GN) (U.) GN...</td>\n",
       "    </tr>\n",
       "    <tr>\n",
       "      <th>2</th>\n",
       "      <td>2b2af341-20c5-4607-baa0-01972617647e</td>\n",
       "      <td>TERMO ELECTRICO EL-55</td>\n",
       "      <td>ELE - Termo eléctrico</td>\n",
       "      <td>D - No enciende</td>\n",
       "      <td>DESPUÉS DE QUE UNA PERSONA SE DUCHO NO VOLVIÓ ...</td>\n",
       "      <td>TERMO ELECTRICO EL-55 ELE - Termo eléctrico \" ...</td>\n",
       "    </tr>\n",
       "    <tr>\n",
       "      <th>3</th>\n",
       "      <td>ab0ed03a-8aab-4317-9aad-fcc06dd41520</td>\n",
       "      <td>COCINA PALACE CRISTAL BLACK LX S2 (GN) (U.)</td>\n",
       "      <td>GN - Gas Natural</td>\n",
       "      <td>D2 - Hornalla Mal funcionamiento</td>\n",
       "      <td>NaN</td>\n",
       "      <td>COCINA PALACE CRISTAL BLACK LX S2 (GN) (U.) GN...</td>\n",
       "    </tr>\n",
       "    <tr>\n",
       "      <th>4</th>\n",
       "      <td>ab0ed03a-8aab-4317-9aad-fcc06dd41520</td>\n",
       "      <td>COCINA PALACE CRISTAL BLACK LX S2 (GN) (U.)</td>\n",
       "      <td>GN - Gas Natural</td>\n",
       "      <td>D2 - Hornalla Mal funcionamiento</td>\n",
       "      <td>LAS HORNALLAS TARDAN MUCHÍSIMO TIEMPO EN PREND...</td>\n",
       "      <td>COCINA PALACE CRISTAL BLACK LX S2 (GN) (U.) GN...</td>\n",
       "    </tr>\n",
       "  </tbody>\n",
       "</table>\n",
       "</div>"
      ],
      "text/plain": [
       "                            problema_id   \n",
       "0  70e03aaf-6cfb-42e8-92ae-fcb46ff479dd  \\\n",
       "1  e5be47a0-c506-4a79-87e9-2a45f06d496c   \n",
       "2  2b2af341-20c5-4607-baa0-01972617647e   \n",
       "3  ab0ed03a-8aab-4317-9aad-fcc06dd41520   \n",
       "4  ab0ed03a-8aab-4317-9aad-fcc06dd41520   \n",
       "\n",
       "                                   descripcion        alias_8_nombre3   \n",
       "0  COCINA PALACE CRISTAL BLACK LX S2 (GN) (U.)       GN - Gas Natural  \\\n",
       "1  COCINA PALACE CRISTAL BLACK LX S2 (GN) (U.)       GN - Gas Natural   \n",
       "2                        TERMO ELECTRICO EL-55  ELE - Termo eléctrico   \n",
       "3  COCINA PALACE CRISTAL BLACK LX S2 (GN) (U.)       GN - Gas Natural   \n",
       "4  COCINA PALACE CRISTAL BLACK LX S2 (GN) (U.)       GN - Gas Natural   \n",
       "\n",
       "                                problema_n   \n",
       "0  B1 - Pérdidas de gas con piezas dañadas  \\\n",
       "1           G - Perilla no gira / gira mal   \n",
       "2                          D - No enciende   \n",
       "3         D2 - Hornalla Mal funcionamiento   \n",
       "4         D2 - Hornalla Mal funcionamiento   \n",
       "\n",
       "                                             obsitem   \n",
       "0  HAY UNA PERILLA DE LAS HORNALLA QUE NO SE PUED...  \\\n",
       "1  HAY UNA PERILLA DE LAS HORNALLA QUE NO SE PUED...   \n",
       "2  DESPUÉS DE QUE UNA PERSONA SE DUCHO NO VOLVIÓ ...   \n",
       "3                                                NaN   \n",
       "4  LAS HORNALLAS TARDAN MUCHÍSIMO TIEMPO EN PREND...   \n",
       "\n",
       "                                        Concaobsitem  \n",
       "0  COCINA PALACE CRISTAL BLACK LX S2 (GN) (U.) GN...  \n",
       "1  COCINA PALACE CRISTAL BLACK LX S2 (GN) (U.) GN...  \n",
       "2  TERMO ELECTRICO EL-55 ELE - Termo eléctrico \" ...  \n",
       "3  COCINA PALACE CRISTAL BLACK LX S2 (GN) (U.) GN...  \n",
       "4  COCINA PALACE CRISTAL BLACK LX S2 (GN) (U.) GN...  "
      ]
     },
     "execution_count": 3,
     "metadata": {},
     "output_type": "execute_result"
    }
   ],
   "source": [
    "# Leer el archivo CSV\n",
    "df = pd.read_csv('C:/Users/Josvaldes/Documents/Maestria/Austral/2ano/textMining/proyecto/TextMining/TextMining/RECLAMOS 3.csv', encoding='utf-8')\n",
    "df.head()"
   ]
  },
  {
   "cell_type": "code",
   "execution_count": 4,
   "id": "51d79836-b540-4873-a784-170ab2265ea2",
   "metadata": {
    "tags": []
   },
   "outputs": [],
   "source": [
    "# Buscar y reemplazar la categoría\n",
    "categoria_a_buscar = 'B2 - Pérdidas de gas sin piezas dañadas'\n",
    "categoria_a_reemplazar = 'B1 - Pérdidas de gas con piezas dañadas'\n",
    "\n",
    "df['problema_n'] = df['problema_n'].replace(categoria_a_buscar, categoria_a_reemplazar)"
   ]
  },
  {
   "cell_type": "code",
   "execution_count": 5,
   "id": "7d4abd01-ecfd-41c1-9537-02b75b1e641e",
   "metadata": {
    "tags": []
   },
   "outputs": [],
   "source": [
    "# Se elimina las filas vacias de los campos descripcion, alias_8_nombre3  y obsitem\n",
    "df.dropna(subset=['descripcion', 'alias_8_nombre3','obsitem'], inplace=True)"
   ]
  },
  {
   "cell_type": "code",
   "execution_count": 6,
   "id": "7b64ce1d-1815-46b6-8a01-d99ae33455df",
   "metadata": {
    "tags": []
   },
   "outputs": [],
   "source": [
    "# Concatenar las columnas \"descripcion\", \"alias_8_nombre3\" y \"obsitem\" en una nueva columna \"Concaobsitem\"\n",
    "df['Concaobsitem'] = df['descripcion'] + ' ' + df['alias_8_nombre3']+ ' ' + df['obsitem']"
   ]
  },
  {
   "cell_type": "code",
   "execution_count": 7,
   "id": "f97f24bf-c4ae-4bf2-bec5-102b0b0a124c",
   "metadata": {
    "tags": []
   },
   "outputs": [
    {
     "data": {
      "text/plain": [
       "list"
      ]
     },
     "execution_count": 7,
     "metadata": {},
     "output_type": "execute_result"
    }
   ],
   "source": [
    "# Obtener las columnas de diagnósticos y códigos AIS\n",
    "descripciones = df['Concaobsitem'].tolist()\n",
    "etiquetas = df['problema_n'].tolist()\n",
    "type(descripciones)"
   ]
  },
  {
   "cell_type": "code",
   "execution_count": 8,
   "id": "bc8e888d-8ad4-4e04-98d2-82d5a66134d3",
   "metadata": {
    "tags": []
   },
   "outputs": [],
   "source": [
    "for desc in descripciones:\n",
    "    if not isinstance(desc, str):\n",
    "        print(f\"Elemento {desc} no es una cadena de texto (str).\")"
   ]
  },
  {
   "cell_type": "code",
   "execution_count": 9,
   "id": "cbeff137-5f19-4251-a405-94247d74b8f6",
   "metadata": {
    "tags": []
   },
   "outputs": [],
   "source": [
    "# Codificar las etiquetas como etiquetas numéricas\n",
    "label_encoder = LabelEncoder()\n",
    "etiquetas_numericas = label_encoder.fit_transform(etiquetas)"
   ]
  },
  {
   "cell_type": "code",
   "execution_count": 10,
   "id": "f4a21110-818f-4f88-b59b-7296ed965f4b",
   "metadata": {
    "tags": []
   },
   "outputs": [],
   "source": [
    "# Preprocesamiento de texto\n",
    "stemmer = SnowballStemmer('spanish')\n",
    "stop_words = set(stopwords.words('spanish'))"
   ]
  },
  {
   "cell_type": "code",
   "execution_count": 11,
   "id": "18b27f5f-cfbd-4e25-bb23-08a53edc0d56",
   "metadata": {
    "tags": []
   },
   "outputs": [],
   "source": [
    "def preprocesar_texto(texto):\n",
    "    palabras = nltk.word_tokenize(texto.lower())\n",
    "    palabras = [stemmer.stem(palabra) for palabra in palabras if palabra.isalpha() and palabra not in stop_words]\n",
    "    return ' '.join(palabras)"
   ]
  },
  {
   "cell_type": "code",
   "execution_count": 12,
   "id": "f16ff528-8ac1-4acb-ade9-403c35632934",
   "metadata": {
    "tags": []
   },
   "outputs": [],
   "source": [
    "descripciones_preprocesadas = [preprocesar_texto(desc) for desc in descripciones]"
   ]
  },
  {
   "cell_type": "code",
   "execution_count": 13,
   "id": "e15c8237-1cfc-44c2-a570-18393e8c11b7",
   "metadata": {
    "tags": []
   },
   "outputs": [],
   "source": [
    "# División de los datos en conjuntos de entrenamiento y prueba\n",
    "X_train, X_test, y_train, y_test = train_test_split(descripciones_preprocesadas, etiquetas_numericas, test_size=0.2, random_state=42)"
   ]
  },
  {
   "cell_type": "code",
   "execution_count": 14,
   "id": "81cfb660-646b-418b-b8bf-77e0d2257371",
   "metadata": {
    "tags": []
   },
   "outputs": [],
   "source": [
    "# Creación del pipeline para el clasificador basado en texto\n",
    "pipeline = Pipeline([\n",
    "    ('tfidf', TfidfVectorizer(max_features=5000)),  # Experimenta con diferentes valores para max_features\n",
    "    ('clf', SVC(kernel='linear'))  # Experimenta con diferentes kernels\n",
    "])"
   ]
  },
  {
   "cell_type": "code",
   "execution_count": 15,
   "id": "8e1ca8b1-5562-42d6-82f6-b94dc0dd5658",
   "metadata": {
    "tags": []
   },
   "outputs": [
    {
     "name": "stderr",
     "output_type": "stream",
     "text": [
      "c:\\Users\\Josvaldes\\AppData\\Local\\Programs\\Python\\Python311\\Lib\\site-packages\\sklearn\\model_selection\\_split.py:725: UserWarning: The least populated class in y has only 1 members, which is less than n_splits=5.\n",
      "  warnings.warn(\n"
     ]
    }
   ],
   "source": [
    "# Entrenamiento del modelo\n",
    "pipeline.fit(X_train, y_train)\n",
    "scores = cross_val_score(pipeline, X_train, y_train, cv=5) "
   ]
  },
  {
   "cell_type": "code",
   "execution_count": 16,
   "id": "f2d7fbb0-4fd3-4ca7-bbfc-8df68943afb2",
   "metadata": {
    "tags": []
   },
   "outputs": [
    {
     "name": "stdout",
     "output_type": "stream",
     "text": [
      "Accuracy en validación cruzada: 0.6612213740458015\n"
     ]
    }
   ],
   "source": [
    "print(\"Accuracy en validación cruzada:\", scores.mean())"
   ]
  },
  {
   "cell_type": "code",
   "execution_count": 17,
   "id": "2b81efba-7c07-4c03-88da-a6e7174863b5",
   "metadata": {},
   "outputs": [
    {
     "name": "stdout",
     "output_type": "stream",
     "text": [
      "                                                                                                   precision    recall  f1-score   support\n",
      "\n",
      "                                                                    B - Descargas de electricidad       0.83      0.22      0.34        23\n",
      "                                               B - La llama no enciende al abrir el grifo de agua       0.65      0.95      0.77        37\n",
      "                                                      B - Pérdidas de gas sin/con piezas quemadas       1.00      0.00      0.00         7\n",
      "                                                    B - Pérdidas de gas – sin/con piezas quemadas       0.25      0.25      0.25         4\n",
      "                                                          B1 - Pérdidas de gas con piezas dañadas       0.76      0.79      0.77       277\n",
      "                              C - La llama se apaga luego de algunos minutos de estar funcionando       0.50      0.54      0.52        13\n",
      "                                                                             C - Pérdidas de agua       0.86      0.93      0.90       343\n",
      "                                                                           C1 - Horno No enciende       0.57      0.38      0.46        34\n",
      "                                                                    C2 - Horno Mal funcionamiento       0.45      0.40      0.43       125\n",
      "                                                                              C3 - Horno Se Apaga       0.52      0.57      0.55       112\n",
      "                                                            D - El agua sale con temperatura baja       1.00      0.50      0.67         2\n",
      "                                                                                  D - No enciende       0.60      0.47      0.53       266\n",
      "                                                                           D - No enciende piloto       0.50      0.18      0.27        66\n",
      "                                                                        D1 - Hornalla No enciende       0.50      0.25      0.33        56\n",
      "                                                                 D2 - Hornalla Mal funcionamiento       0.40      0.62      0.49       212\n",
      "                                                                           D3 - Hornalla Se Apaga       0.56      0.57      0.56       143\n",
      "                                                                   D4 - Otra Hornalla no enciende       1.00      1.00      1.00         0\n",
      "                                                            D5 - Otra Hornalla Mal funcionamiento       1.00      0.00      0.00         1\n",
      "                                                                      D6 - Otra Hornalla Se Apaga       1.00      0.00      0.00         2\n",
      "                                                     E - El agua sale con temperatura baja / alta       1.00      0.00      0.00        33\n",
      "                                                      E - El agua sale con temperatura baja, alta       0.64      0.86      0.73       412\n",
      "                                      E - No se apaga el calefón al cerrar la circulación de agua       1.00      0.00      0.00         2\n",
      "                                                                              E - Piloto se apaga       0.75      0.86      0.80       221\n",
      "                                                         E - Puerta de horno - No cierra / Se cae       0.87      0.93      0.90       469\n",
      "                                                                                     F - No apaga       0.25      0.10      0.14        10\n",
      "F - No calienta agua Mal funcionamientoQuemador no enciende Quemador se apagaQuemador no se apaga       0.60      0.68      0.64        50\n",
      "                                                                  F - Puerta Parrilla - No cierra       0.42      0.29      0.34        17\n",
      "                                                                              F - Pérdida de agua       0.80      0.57      0.67         7\n",
      "                                                                   G - Perilla no gira / gira mal       0.60      0.63      0.61        84\n",
      "                                                               G - Piezas faltantes / mal fijadas       1.00      0.00      0.00         1\n",
      "                                                            G - Pérdida de gas SIN piezas dañadas       1.00      0.00      0.00         2\n",
      "                                                                         H - Accesorios faltantes       1.00      0.00      0.00         5\n",
      "                                               H - Piezas se caen, mal fijadas o mal posicionadas       0.33      0.03      0.06        31\n",
      "                                                            H - Pérdida de gas CON piezas dañadas       1.00      1.00      1.00         0\n",
      "                                                                     I - Accesorios cambio de GAS       1.00      0.00      0.00         1\n",
      "                                                                           I - Defectos estéticos       0.00      0.00      1.00         6\n",
      "                                                                               I - Otros defectos       1.00      0.00      0.00         1\n",
      "                                                                           J - Defectos estéticos       1.00      0.00      0.00         1\n",
      "                                                  J - Defectos estéticos - Modelos Ac. inoxidable       0.50      0.25      0.33         4\n",
      "                                                                   J - Otras piezas en mal estado       1.00      1.00      1.00         0\n",
      "                                                J - Problema no mencionado en opciones anteriores       0.92      0.30      0.45        37\n",
      "                                                              K - Fallas en encendido electrónico       0.71      0.41      0.52        37\n",
      "                                           K - Otro problema no mencionado en opciones anteriores       1.00      0.00      0.00         7\n",
      "                                                K - Problema no mencionado en opciones anteriores       1.00      0.05      0.10        20\n",
      "                                                                             M - Vidrio estallado       0.71      0.67      0.69        30\n",
      "                                                                                  N - Manija rota       1.00      0.00      0.00         2\n",
      "                                                                   P - Otras piezas en mal estado       0.40      0.07      0.12        28\n",
      "                                                Q - Problema no mencionado en opciones anteriores       0.00      0.00      1.00        35\n",
      "\n",
      "                                                                                        micro avg       0.67      0.67      0.67      3276\n",
      "                                                                                        macro avg       0.72      0.36      0.42      3276\n",
      "                                                                                     weighted avg       0.67      0.67      0.66      3276\n",
      "\n"
     ]
    }
   ],
   "source": [
    "# Evaluación del modelo en el conjunto de prueba\n",
    "y_pred = pipeline.predict(X_test)\n",
    "report = classification_report(y_test, y_pred, labels=np.unique(etiquetas_numericas), target_names=label_encoder.inverse_transform(np.unique(etiquetas_numericas)), zero_division=1)\n",
    "print(report)"
   ]
  }
 ],
 "metadata": {
  "kernelspec": {
   "display_name": "Python 3",
   "language": "python",
   "name": "python3"
  },
  "language_info": {
   "codemirror_mode": {
    "name": "ipython",
    "version": 3
   },
   "file_extension": ".py",
   "mimetype": "text/x-python",
   "name": "python",
   "nbconvert_exporter": "python",
   "pygments_lexer": "ipython3",
   "version": "3.11.4"
  }
 },
 "nbformat": 4,
 "nbformat_minor": 5
}
