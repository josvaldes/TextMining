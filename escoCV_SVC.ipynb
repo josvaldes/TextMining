{
 "cells": [
  {
   "cell_type": "code",
   "execution_count": 1,
   "id": "76ad548c-2edf-4da8-a83d-cea0995b5f9c",
   "metadata": {
    "tags": []
   },
   "outputs": [
    {
     "name": "stderr",
     "output_type": "stream",
     "text": [
      "[nltk_data] Downloading package stopwords to\n",
      "[nltk_data]     C:\\Users\\Josvaldes\\AppData\\Roaming\\nltk_data...\n",
      "[nltk_data]   Package stopwords is already up-to-date!\n",
      "[nltk_data] Downloading package punkt to\n",
      "[nltk_data]     C:\\Users\\Josvaldes\\AppData\\Roaming\\nltk_data...\n",
      "[nltk_data]   Package punkt is already up-to-date!\n"
     ]
    },
    {
     "data": {
      "text/plain": [
       "True"
      ]
     },
     "execution_count": 1,
     "metadata": {},
     "output_type": "execute_result"
    }
   ],
   "source": [
    "import numpy as np\n",
    "import pandas as pd\n",
    "from sklearn.feature_extraction.text import TfidfVectorizer\n",
    "from sklearn.model_selection import cross_val_score, train_test_split\n",
    "from sklearn.pipeline import Pipeline\n",
    "from sklearn.svm import SVC\n",
    "from sklearn.preprocessing import LabelEncoder\n",
    "import nltk\n",
    "from nltk.corpus import stopwords\n",
    "from nltk.stem import SnowballStemmer\n",
    "from sklearn.metrics import classification_report\n",
    "\n",
    "nltk.download('stopwords')\n",
    "nltk.download('punkt')"
   ]
  },
  {
   "cell_type": "code",
   "execution_count": 2,
   "id": "f3d71bcd-f729-4baf-8e01-2b67f130f2fa",
   "metadata": {
    "tags": []
   },
   "outputs": [
    {
     "data": {
      "text/html": [
       "<div>\n",
       "<style scoped>\n",
       "    .dataframe tbody tr th:only-of-type {\n",
       "        vertical-align: middle;\n",
       "    }\n",
       "\n",
       "    .dataframe tbody tr th {\n",
       "        vertical-align: top;\n",
       "    }\n",
       "\n",
       "    .dataframe thead th {\n",
       "        text-align: right;\n",
       "    }\n",
       "</style>\n",
       "<table border=\"1\" class=\"dataframe\">\n",
       "  <thead>\n",
       "    <tr style=\"text-align: right;\">\n",
       "      <th></th>\n",
       "      <th>problema_id</th>\n",
       "      <th>descripcion</th>\n",
       "      <th>alias_8_nombre3</th>\n",
       "      <th>problema_n</th>\n",
       "      <th>obsitem</th>\n",
       "      <th>Concaobsitem</th>\n",
       "    </tr>\n",
       "  </thead>\n",
       "  <tbody>\n",
       "    <tr>\n",
       "      <th>0</th>\n",
       "      <td>70e03aaf-6cfb-42e8-92ae-fcb46ff479dd</td>\n",
       "      <td>COCINA PALACE CRISTAL BLACK LX S2 (GN) (U.)</td>\n",
       "      <td>GN - Gas Natural</td>\n",
       "      <td>B1 - Pérdidas de gas con piezas dañadas</td>\n",
       "      <td>HAY UNA PERILLA DE LAS HORNALLA QUE NO SE PUED...</td>\n",
       "      <td>COCINA PALACE CRISTAL BLACK LX S2 (GN) (U.) GN...</td>\n",
       "    </tr>\n",
       "    <tr>\n",
       "      <th>1</th>\n",
       "      <td>e5be47a0-c506-4a79-87e9-2a45f06d496c</td>\n",
       "      <td>COCINA PALACE CRISTAL BLACK LX S2 (GN) (U.)</td>\n",
       "      <td>GN - Gas Natural</td>\n",
       "      <td>G - Perilla no gira / gira mal</td>\n",
       "      <td>HAY UNA PERILLA DE LAS HORNALLA QUE NO SE PUED...</td>\n",
       "      <td>COCINA PALACE CRISTAL BLACK LX S2 (GN) (U.) GN...</td>\n",
       "    </tr>\n",
       "    <tr>\n",
       "      <th>2</th>\n",
       "      <td>2b2af341-20c5-4607-baa0-01972617647e</td>\n",
       "      <td>TERMO ELECTRICO EL-55</td>\n",
       "      <td>ELE - Termo eléctrico</td>\n",
       "      <td>D - No enciende</td>\n",
       "      <td>DESPUÉS DE QUE UNA PERSONA SE DUCHO NO VOLVIÓ ...</td>\n",
       "      <td>TERMO ELECTRICO EL-55 ELE - Termo eléctrico \" ...</td>\n",
       "    </tr>\n",
       "    <tr>\n",
       "      <th>3</th>\n",
       "      <td>ab0ed03a-8aab-4317-9aad-fcc06dd41520</td>\n",
       "      <td>COCINA PALACE CRISTAL BLACK LX S2 (GN) (U.)</td>\n",
       "      <td>GN - Gas Natural</td>\n",
       "      <td>D2 - Hornalla Mal funcionamiento</td>\n",
       "      <td>NaN</td>\n",
       "      <td>COCINA PALACE CRISTAL BLACK LX S2 (GN) (U.) GN...</td>\n",
       "    </tr>\n",
       "    <tr>\n",
       "      <th>4</th>\n",
       "      <td>ab0ed03a-8aab-4317-9aad-fcc06dd41520</td>\n",
       "      <td>COCINA PALACE CRISTAL BLACK LX S2 (GN) (U.)</td>\n",
       "      <td>GN - Gas Natural</td>\n",
       "      <td>D2 - Hornalla Mal funcionamiento</td>\n",
       "      <td>LAS HORNALLAS TARDAN MUCHÍSIMO TIEMPO EN PREND...</td>\n",
       "      <td>COCINA PALACE CRISTAL BLACK LX S2 (GN) (U.) GN...</td>\n",
       "    </tr>\n",
       "    <tr>\n",
       "      <th>...</th>\n",
       "      <td>...</td>\n",
       "      <td>...</td>\n",
       "      <td>...</td>\n",
       "      <td>...</td>\n",
       "      <td>...</td>\n",
       "      <td>...</td>\n",
       "    </tr>\n",
       "    <tr>\n",
       "      <th>18709</th>\n",
       "      <td>b3e96d44-2a08-4f8b-b63e-df346e84ecaa</td>\n",
       "      <td>COCINA PALACE CRISTAL LX S2 (GN) (U.)</td>\n",
       "      <td>GN - Gas Natural</td>\n",
       "      <td>K - Fallas en encendido electrónico</td>\n",
       "      <td>NaN</td>\n",
       "      <td>COCINA PALACE CRISTAL LX S2 (GN) (U.) GN - Gas...</td>\n",
       "    </tr>\n",
       "    <tr>\n",
       "      <th>18710</th>\n",
       "      <td>8c5fec8e-37bc-46ac-a031-717476ef2f6f</td>\n",
       "      <td>COCINA PALACE CRISTAL LX S2 (GN) (U.)</td>\n",
       "      <td>GN - Gas Natural</td>\n",
       "      <td>E - Puerta de horno - No cierra / Se cae</td>\n",
       "      <td>SE ROMPIÓ LA BISAGRA DE LA PUERTA DEL HORNO</td>\n",
       "      <td>COCINA PALACE CRISTAL LX S2 (GN) (U.) GN - Gas...</td>\n",
       "    </tr>\n",
       "    <tr>\n",
       "      <th>18711</th>\n",
       "      <td>553f6bde-32ee-4099-a99a-15a4ff7729f4</td>\n",
       "      <td>COCINA PALACE CRISTAL LX S2 (GL) (U.)</td>\n",
       "      <td>GE - Gas Envasado</td>\n",
       "      <td>C2 - Horno Mal funcionamiento</td>\n",
       "      <td>NaN</td>\n",
       "      <td>COCINA PALACE CRISTAL LX S2 (GL) (U.) GE - Gas...</td>\n",
       "    </tr>\n",
       "    <tr>\n",
       "      <th>18712</th>\n",
       "      <td>5e810261-6a73-470d-b900-5018f9f83927</td>\n",
       "      <td>COCINA PALACE CRISTAL LX S2 (GL) (U.)</td>\n",
       "      <td>GE - Gas Envasado</td>\n",
       "      <td>D3 - Hornalla Se Apaga</td>\n",
       "      <td>- PROBLEMAS CON EL HORNO.\\n \\n - EL HORNO PERM...</td>\n",
       "      <td>COCINA PALACE CRISTAL LX S2 (GL) (U.) GE - Gas...</td>\n",
       "    </tr>\n",
       "    <tr>\n",
       "      <th>18713</th>\n",
       "      <td>c5952495-6ee0-4566-8853-bfcdb75bf88d</td>\n",
       "      <td>TERMO 120 L GN (U.)</td>\n",
       "      <td>GAS - Termo a gas</td>\n",
       "      <td>E - Piloto se apaga</td>\n",
       "      <td>EL TERMOTANQUE SE APAGA</td>\n",
       "      <td>TERMO 120 L GN (U.) GAS - Termo a gas \" EL TER...</td>\n",
       "    </tr>\n",
       "  </tbody>\n",
       "</table>\n",
       "<p>18714 rows × 6 columns</p>\n",
       "</div>"
      ],
      "text/plain": [
       "                                problema_id   \n",
       "0      70e03aaf-6cfb-42e8-92ae-fcb46ff479dd  \\\n",
       "1      e5be47a0-c506-4a79-87e9-2a45f06d496c   \n",
       "2      2b2af341-20c5-4607-baa0-01972617647e   \n",
       "3      ab0ed03a-8aab-4317-9aad-fcc06dd41520   \n",
       "4      ab0ed03a-8aab-4317-9aad-fcc06dd41520   \n",
       "...                                     ...   \n",
       "18709  b3e96d44-2a08-4f8b-b63e-df346e84ecaa   \n",
       "18710  8c5fec8e-37bc-46ac-a031-717476ef2f6f   \n",
       "18711  553f6bde-32ee-4099-a99a-15a4ff7729f4   \n",
       "18712  5e810261-6a73-470d-b900-5018f9f83927   \n",
       "18713  c5952495-6ee0-4566-8853-bfcdb75bf88d   \n",
       "\n",
       "                                       descripcion        alias_8_nombre3   \n",
       "0      COCINA PALACE CRISTAL BLACK LX S2 (GN) (U.)       GN - Gas Natural  \\\n",
       "1      COCINA PALACE CRISTAL BLACK LX S2 (GN) (U.)       GN - Gas Natural   \n",
       "2                            TERMO ELECTRICO EL-55  ELE - Termo eléctrico   \n",
       "3      COCINA PALACE CRISTAL BLACK LX S2 (GN) (U.)       GN - Gas Natural   \n",
       "4      COCINA PALACE CRISTAL BLACK LX S2 (GN) (U.)       GN - Gas Natural   \n",
       "...                                            ...                    ...   \n",
       "18709        COCINA PALACE CRISTAL LX S2 (GN) (U.)       GN - Gas Natural   \n",
       "18710        COCINA PALACE CRISTAL LX S2 (GN) (U.)       GN - Gas Natural   \n",
       "18711        COCINA PALACE CRISTAL LX S2 (GL) (U.)      GE - Gas Envasado   \n",
       "18712        COCINA PALACE CRISTAL LX S2 (GL) (U.)      GE - Gas Envasado   \n",
       "18713                          TERMO 120 L GN (U.)      GAS - Termo a gas   \n",
       "\n",
       "                                     problema_n   \n",
       "0       B1 - Pérdidas de gas con piezas dañadas  \\\n",
       "1                G - Perilla no gira / gira mal   \n",
       "2                               D - No enciende   \n",
       "3              D2 - Hornalla Mal funcionamiento   \n",
       "4              D2 - Hornalla Mal funcionamiento   \n",
       "...                                         ...   \n",
       "18709       K - Fallas en encendido electrónico   \n",
       "18710  E - Puerta de horno - No cierra / Se cae   \n",
       "18711             C2 - Horno Mal funcionamiento   \n",
       "18712                    D3 - Hornalla Se Apaga   \n",
       "18713                       E - Piloto se apaga   \n",
       "\n",
       "                                                 obsitem   \n",
       "0      HAY UNA PERILLA DE LAS HORNALLA QUE NO SE PUED...  \\\n",
       "1      HAY UNA PERILLA DE LAS HORNALLA QUE NO SE PUED...   \n",
       "2      DESPUÉS DE QUE UNA PERSONA SE DUCHO NO VOLVIÓ ...   \n",
       "3                                                    NaN   \n",
       "4      LAS HORNALLAS TARDAN MUCHÍSIMO TIEMPO EN PREND...   \n",
       "...                                                  ...   \n",
       "18709                                                NaN   \n",
       "18710        SE ROMPIÓ LA BISAGRA DE LA PUERTA DEL HORNO   \n",
       "18711                                                NaN   \n",
       "18712  - PROBLEMAS CON EL HORNO.\\n \\n - EL HORNO PERM...   \n",
       "18713                            EL TERMOTANQUE SE APAGA   \n",
       "\n",
       "                                            Concaobsitem  \n",
       "0      COCINA PALACE CRISTAL BLACK LX S2 (GN) (U.) GN...  \n",
       "1      COCINA PALACE CRISTAL BLACK LX S2 (GN) (U.) GN...  \n",
       "2      TERMO ELECTRICO EL-55 ELE - Termo eléctrico \" ...  \n",
       "3      COCINA PALACE CRISTAL BLACK LX S2 (GN) (U.) GN...  \n",
       "4      COCINA PALACE CRISTAL BLACK LX S2 (GN) (U.) GN...  \n",
       "...                                                  ...  \n",
       "18709  COCINA PALACE CRISTAL LX S2 (GN) (U.) GN - Gas...  \n",
       "18710  COCINA PALACE CRISTAL LX S2 (GN) (U.) GN - Gas...  \n",
       "18711  COCINA PALACE CRISTAL LX S2 (GL) (U.) GE - Gas...  \n",
       "18712  COCINA PALACE CRISTAL LX S2 (GL) (U.) GE - Gas...  \n",
       "18713  TERMO 120 L GN (U.) GAS - Termo a gas \" EL TER...  \n",
       "\n",
       "[18714 rows x 6 columns]"
      ]
     },
     "execution_count": 2,
     "metadata": {},
     "output_type": "execute_result"
    }
   ],
   "source": [
    "# Leer el archivo CSV\n",
    "df = pd.read_csv('C:/Users/Josvaldes/Documents/Maestria/Austral/2ano/textMining/proyecto/TextMining/TextMining/RECLAMOS 3.csv', encoding='utf-8')\n",
    "df"
   ]
  },
  {
   "cell_type": "code",
   "execution_count": 3,
   "id": "76f87355-c2bf-4eff-a163-60004fdb0a53",
   "metadata": {
    "tags": []
   },
   "outputs": [],
   "source": [
    "# Obtener las columnas de diagnósticos y códigos AIS\n",
    "descripciones = df['Concaobsitem'].tolist()\n",
    "etiquetas = df['problema_n'].tolist()"
   ]
  },
  {
   "cell_type": "code",
   "execution_count": 4,
   "id": "985565b6-0b2b-45bb-b442-aaa9b18132e1",
   "metadata": {
    "tags": []
   },
   "outputs": [],
   "source": [
    "# Codificar las etiquetas como etiquetas numéricas\n",
    "label_encoder = LabelEncoder()\n",
    "etiquetas_numericas = label_encoder.fit_transform(etiquetas)"
   ]
  },
  {
   "cell_type": "code",
   "execution_count": 5,
   "id": "8ffecb80-ebaa-4ae2-9b2b-3d0fe0195593",
   "metadata": {
    "tags": []
   },
   "outputs": [],
   "source": [
    "# Preprocesamiento de texto\n",
    "stemmer = SnowballStemmer('spanish')\n",
    "stop_words = set(stopwords.words('spanish'))"
   ]
  },
  {
   "cell_type": "code",
   "execution_count": 6,
   "id": "dd969264-f5f5-4a2a-8dd2-2697dbce4787",
   "metadata": {
    "tags": []
   },
   "outputs": [],
   "source": [
    "def preprocesar_texto(texto):\n",
    "    palabras = nltk.word_tokenize(texto.lower())\n",
    "    palabras = [stemmer.stem(palabra) for palabra in palabras if palabra.isalpha() and palabra not in stop_words]\n",
    "    return ' '.join(palabras)"
   ]
  },
  {
   "cell_type": "code",
   "execution_count": 7,
   "id": "1c6f7fac-257f-4fa7-accb-9a2e4314af75",
   "metadata": {
    "tags": []
   },
   "outputs": [],
   "source": [
    "descripciones_preprocesadas = [preprocesar_texto(desc) for desc in descripciones]"
   ]
  },
  {
   "cell_type": "code",
   "execution_count": 8,
   "id": "48909554-e51f-4e96-b948-802f428cef60",
   "metadata": {
    "tags": []
   },
   "outputs": [],
   "source": [
    "# División de los datos en conjuntos de entrenamiento y prueba\n",
    "X_train, X_test, y_train, y_test = train_test_split(descripciones_preprocesadas, etiquetas_numericas, test_size=0.2, random_state=42)\n"
   ]
  },
  {
   "cell_type": "code",
   "execution_count": 9,
   "id": "490888c3-7703-4478-aea9-9af414362076",
   "metadata": {
    "tags": []
   },
   "outputs": [],
   "source": [
    "# Creación del pipeline para el clasificador basado en texto\n",
    "pipeline = Pipeline([\n",
    "    ('tfidf', TfidfVectorizer(max_features=5000)),  # Experimenta con diferentes valores para max_features\n",
    "    ('clf', SVC(kernel='linear'))  # Experimenta con diferentes kernels\n",
    "])"
   ]
  },
  {
   "cell_type": "code",
   "execution_count": 10,
   "id": "640fa3ca-0bc3-453b-b263-4692125b7123",
   "metadata": {
    "tags": []
   },
   "outputs": [
    {
     "name": "stderr",
     "output_type": "stream",
     "text": [
      "C:\\Users\\Josvaldes\\AppData\\Local\\Programs\\Python\\Python311\\Lib\\site-packages\\sklearn\\model_selection\\_split.py:725: UserWarning: The least populated class in y has only 1 members, which is less than n_splits=5.\n",
      "  warnings.warn(\n"
     ]
    }
   ],
   "source": [
    "# Entrenamiento del modelo\n",
    "pipeline.fit(X_train, y_train)\n",
    "scores = cross_val_score(pipeline, X_train, y_train, cv=5) "
   ]
  },
  {
   "cell_type": "code",
   "execution_count": 11,
   "id": "62779885-d0a9-443c-8e6e-62de7b6e0229",
   "metadata": {
    "tags": []
   },
   "outputs": [
    {
     "name": "stdout",
     "output_type": "stream",
     "text": [
      "Accuracy en validación cruzada: 0.6003605430114541\n"
     ]
    }
   ],
   "source": [
    "print(\"Accuracy en validación cruzada:\", scores.mean())"
   ]
  },
  {
   "cell_type": "code",
   "execution_count": 12,
   "id": "86c0949f-9acb-4cfa-b246-8a0f8d7ed570",
   "metadata": {
    "tags": []
   },
   "outputs": [
    {
     "name": "stdout",
     "output_type": "stream",
     "text": [
      "                                                                                                   precision    recall  f1-score   support\n",
      "\n",
      "                                                                    B - Descargas de electricidad       0.50      0.22      0.31         9\n",
      "                                               B - La llama no enciende al abrir el grifo de agua       0.85      0.95      0.90        43\n",
      "                                                      B - Pérdidas de gas sin/con piezas quemadas       1.00      0.00      0.00         2\n",
      "                                                    B - Pérdidas de gas – sin/con piezas quemadas       1.00      0.14      0.25         7\n",
      "                                                          B1 - Pérdidas de gas con piezas dañadas       0.35      0.17      0.23        71\n",
      "                                                          B2 - Pérdidas de gas sin piezas dañadas       0.68      0.72      0.70       220\n",
      "                              C - La llama se apaga luego de algunos minutos de estar funcionando       0.67      0.91      0.77        11\n",
      "                                                                             C - Pérdidas de agua       0.83      0.89      0.86       379\n",
      "                                                                           C1 - Horno No enciende       0.16      0.09      0.12        32\n",
      "                                                                    C2 - Horno Mal funcionamiento       0.42      0.27      0.33       171\n",
      "                                                                              C3 - Horno Se Apaga       0.58      0.63      0.60       153\n",
      "                                                            D - El agua sale con temperatura baja       1.00      0.50      0.67         4\n",
      "                                                                                  D - No enciende       0.49      0.44      0.47       245\n",
      "                                                                           D - No enciende piloto       0.52      0.18      0.27        71\n",
      "                                                                        D1 - Hornalla No enciende       0.46      0.21      0.29        81\n",
      "                                                                 D2 - Hornalla Mal funcionamiento       0.30      0.64      0.41       335\n",
      "                                                                           D3 - Hornalla Se Apaga       0.56      0.46      0.50       193\n",
      "                                                                   D4 - Otra Hornalla no enciende       1.00      0.00      0.00         6\n",
      "                                                            D5 - Otra Hornalla Mal funcionamiento       1.00      0.00      0.00        12\n",
      "                                                                      D6 - Otra Hornalla Se Apaga       1.00      0.00      0.00        22\n",
      "                                                     E - El agua sale con temperatura baja / alta       1.00      0.00      0.00        44\n",
      "                                                      E - El agua sale con temperatura baja, alta       0.62      0.83      0.71       390\n",
      "                                      E - No se apaga el calefón al cerrar la circulación de agua       1.00      1.00      1.00         0\n",
      "                                                                              E - Piloto se apaga       0.71      0.83      0.76       230\n",
      "                                                         E - Puerta de horno - No cierra / Se cae       0.85      0.86      0.86       498\n",
      "                                                                                     F - No apaga       0.20      0.14      0.17         7\n",
      "F - No calienta agua Mal funcionamientoQuemador no enciende Quemador se apagaQuemador no se apaga       0.66      0.56      0.61        62\n",
      "                                                                  F - Puerta Parrilla - No cierra       0.43      0.15      0.22        20\n",
      "                                                                              F - Pérdida de agua       0.75      0.43      0.55         7\n",
      "                                                                   G - Perilla no gira / gira mal       0.61      0.45      0.52       110\n",
      "                                                               G - Piezas faltantes / mal fijadas       1.00      0.00      0.00         4\n",
      "                                                            G - Pérdida de gas SIN piezas dañadas       1.00      1.00      1.00         0\n",
      "                                                                         H - Accesorios faltantes       1.00      0.00      0.00         4\n",
      "                                               H - Piezas se caen, mal fijadas o mal posicionadas       0.25      0.05      0.08        42\n",
      "                                                            H - Pérdida de gas CON piezas dañadas       1.00      1.00      1.00         0\n",
      "                                                                     I - Accesorios cambio de GAS       1.00      1.00      1.00         0\n",
      "                                                                           I - Defectos estéticos       0.00      0.00      1.00         5\n",
      "                                                                               I - Otros defectos       1.00      0.00      0.00         3\n",
      "                                                                           J - Defectos estéticos       1.00      1.00      1.00         0\n",
      "                                                  J - Defectos estéticos - Modelos Ac. inoxidable       0.50      0.14      0.22         7\n",
      "                                                                   J - Otras piezas en mal estado       1.00      0.00      0.00         1\n",
      "                                                J - Problema no mencionado en opciones anteriores       0.82      0.20      0.33        44\n",
      "                                                              K - Fallas en encendido electrónico       0.52      0.32      0.40        50\n",
      "                                             K - Fallas en encendido electrónico y/o luz de horno       1.00      1.00      1.00         0\n",
      "                                           K - Otro problema no mencionado en opciones anteriores       1.00      0.00      0.00         3\n",
      "                                                K - Problema no mencionado en opciones anteriores       0.00      0.00      1.00        19\n",
      "                                                          L - Falta/Falla accesorios Kit MULTIGAS       1.00      1.00      1.00         0\n",
      "                                                                             M - Vidrio estallado       0.88      0.57      0.70        40\n",
      "                                                                                  N - Manija rota       1.00      0.00      0.00         3\n",
      "                                                                   P - Otras piezas en mal estado       0.26      0.16      0.20        37\n",
      "                                                Q - Problema no mencionado en opciones anteriores       0.17      0.02      0.04        46\n",
      "\n",
      "                                                                                        micro avg       0.60      0.60      0.60      3743\n",
      "                                                                                        macro avg       0.70      0.40      0.45      3743\n",
      "                                                                                     weighted avg       0.62      0.60      0.58      3743\n",
      "\n"
     ]
    }
   ],
   "source": [
    "# Evaluación del modelo en el conjunto de prueba\n",
    "y_pred = pipeline.predict(X_test)\n",
    "report = classification_report(y_test, y_pred, labels=np.unique(etiquetas_numericas), target_names=label_encoder.inverse_transform(np.unique(etiquetas_numericas)), zero_division=1)\n",
    "print(report)"
   ]
  },
  {
   "cell_type": "code",
   "execution_count": 19,
   "id": "d1e935eb-5ef2-459f-9e42-9365e96b2271",
   "metadata": {
    "tags": []
   },
   "outputs": [
    {
     "data": {
      "text/html": [
       "<div>\n",
       "<style scoped>\n",
       "    .dataframe tbody tr th:only-of-type {\n",
       "        vertical-align: middle;\n",
       "    }\n",
       "\n",
       "    .dataframe tbody tr th {\n",
       "        vertical-align: top;\n",
       "    }\n",
       "\n",
       "    .dataframe thead th {\n",
       "        text-align: right;\n",
       "    }\n",
       "</style>\n",
       "<table border=\"1\" class=\"dataframe\">\n",
       "  <thead>\n",
       "    <tr style=\"text-align: right;\">\n",
       "      <th></th>\n",
       "      <th>obsitem</th>\n",
       "    </tr>\n",
       "  </thead>\n",
       "  <tbody>\n",
       "    <tr>\n",
       "      <th>0</th>\n",
       "      <td>ELE - Termo eléctrico 3150 - Cañerías/Otros ar...</td>\n",
       "    </tr>\n",
       "    <tr>\n",
       "      <th>1</th>\n",
       "      <td>GE - Gas Envasado C2 - Horno Mal funcionamient...</td>\n",
       "    </tr>\n",
       "    <tr>\n",
       "      <th>2</th>\n",
       "      <td>GN - Gas Natural 1010 - Instalación no realiza...</td>\n",
       "    </tr>\n",
       "    <tr>\n",
       "      <th>3</th>\n",
       "      <td>MG - Multi Gas D6 - Otra Hornalla Se Apaga</td>\n",
       "    </tr>\n",
       "    <tr>\n",
       "      <th>4</th>\n",
       "      <td>GAS - Termo a gas 2040 - Tiraje incorrecto cte...</td>\n",
       "    </tr>\n",
       "    <tr>\n",
       "      <th>5</th>\n",
       "      <td>ELE - Termo eléctrico E - El agua sale con tem...</td>\n",
       "    </tr>\n",
       "  </tbody>\n",
       "</table>\n",
       "</div>"
      ],
      "text/plain": [
       "                                             obsitem\n",
       "0  ELE - Termo eléctrico 3150 - Cañerías/Otros ar...\n",
       "1  GE - Gas Envasado C2 - Horno Mal funcionamient...\n",
       "2  GN - Gas Natural 1010 - Instalación no realiza...\n",
       "3        MG - Multi Gas D6 - Otra Hornalla Se Apaga \n",
       "4  GAS - Termo a gas 2040 - Tiraje incorrecto cte...\n",
       "5  ELE - Termo eléctrico E - El agua sale con tem..."
      ]
     },
     "execution_count": 19,
     "metadata": {},
     "output_type": "execute_result"
    }
   ],
   "source": [
    "# Cargar descripciones de problemas para evaluar\n",
    "archivo_evaluacion = 'C:/Users/Josvaldes/Documents/Maestria/Austral/2ano/textMining/proyecto/TextMining/TextMining/testesco.xlsx'\n",
    "lineas = pd.read_excel(archivo_evaluacion)\n",
    "lineas"
   ]
  },
  {
   "cell_type": "code",
   "execution_count": 20,
   "id": "4b4715ff-fb14-4eac-a22b-844d2caa5956",
   "metadata": {},
   "outputs": [],
   "source": [
    "resultados = []\n",
    "\n",
    "for linea in lineas:\n",
    "    problema = linea.strip()\n",
    "    problema_preprocesado = preprocesar_texto(problema)\n",
    "    predicciones = pipeline.predict([problema_preprocesado])\n",
    "    clase_predicha = label_encoder.inverse_transform(predicciones)[0]\n",
    "    resultados.append({\n",
    "        'Problema': problema,\n",
    "        'Etiqueta de Reclamo': clase_predicha\n",
    "    })\n",
    "\n",
    "resultados_df = pd.DataFrame(resultados)"
   ]
  },
  {
   "cell_type": "code",
   "execution_count": 21,
   "id": "de04a3e6-7b92-4be4-9cf4-f65182b31379",
   "metadata": {
    "tags": []
   },
   "outputs": [
    {
     "name": "stdout",
     "output_type": "stream",
     "text": [
      "Resultados guardados en: C:/Users/Josvaldes/Documents/Maestria/Austral/2ano/textMining/proyecto/TextMining/TextMining/testresultadoCV_SVC.txt\n"
     ]
    }
   ],
   "source": [
    "archivo_resultado = 'C:/Users/Josvaldes/Documents/Maestria/Austral/2ano/textMining/proyecto/TextMining/TextMining/testresultadoCV_SVC.txt'\n",
    "resultados_df.to_csv(archivo_resultado, index=False, sep='\\t', encoding='utf-8')\n",
    "\n",
    "print(\"Resultados guardados en:\", archivo_resultado)"
   ]
  },
  {
   "cell_type": "code",
   "execution_count": null,
   "id": "92f00944-a43a-440c-b1ef-6043d31db182",
   "metadata": {},
   "outputs": [],
   "source": []
  }
 ],
 "metadata": {
  "kernelspec": {
   "display_name": "Python 3 (ipykernel)",
   "language": "python",
   "name": "python3"
  },
  "language_info": {
   "codemirror_mode": {
    "name": "ipython",
    "version": 3
   },
   "file_extension": ".py",
   "mimetype": "text/x-python",
   "name": "python",
   "nbconvert_exporter": "python",
   "pygments_lexer": "ipython3",
   "version": "3.11.4"
  }
 },
 "nbformat": 4,
 "nbformat_minor": 5
}
